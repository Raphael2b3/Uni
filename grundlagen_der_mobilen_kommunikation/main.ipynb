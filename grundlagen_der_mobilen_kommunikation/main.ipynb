{
 "cells": [
  {
   "metadata": {},
   "cell_type": "markdown",
   "source": "# Grundlagen der mobilen Kommunikation",
   "id": "281252fbd03974b3"
  },
  {
   "metadata": {},
   "cell_type": "markdown",
   "source": "",
   "id": "bf34edc1135182a2"
  },
  {
   "metadata": {},
   "cell_type": "markdown",
   "source": "",
   "id": "f003444b316155bf"
  },
  {
   "metadata": {},
   "cell_type": "markdown",
   "source": [
    "$ Kapazität = Bandpreite * log_2(1 + \\frac{Signalleistung} {Rauschleistung}) $\n",
    "\n",
    "$ Signalleistung \\propto \\frac{1}{Frequenz^2}^2 $\n",
    "\n",
    "$ P_T := \\text{Sendeleistung} [W] $\n",
    "\n",
    "$ P_R := \\text{Empfangsleistung} [W] $\n",
    "\n",
    "$ S_R := \\text{Leistungsdichte} [W/m^2] $  \n",
    "\n",
    "$ G_R := \\text{Relativer Gewinn im Verlgeich zur  isotropen Antenne} $\n",
    "\n",
    "$ G_T := \\text{Antennengewinn am Sender} $  \n",
    "\n",
    "$ \\lambda := \\text{Wellenlänge} $\n",
    " \n",
    " \n",
    "$ 4 \\pi r^2 := \\text{Fläche} [m^2] $\n",
    "\n",
    "$ S_R = \\frac{P_T}{4 \\pi r^2} $\n",
    "\n",
    "$ P_R = S_R * A_{eff} $\n",
    "\n",
    "$ A_{eff} = [\\frac{\\lambda^2}{4 \\pi}]G_R $\n",
    "\n",
    "$ P_R = P_T G_T G_R ( \\frac{\\lambda}{4 \\pi d} )^2  $\n"
   ],
   "id": "1c66f35623acdb9a"
  },
  {
   "metadata": {
    "ExecuteTime": {
     "end_time": "2024-11-22T10:21:38.862191Z",
     "start_time": "2024-11-22T10:21:38.857181Z"
    }
   },
   "cell_type": "code",
   "source": "",
   "id": "27ba758d90655c56",
   "outputs": [],
   "execution_count": null
  },
  {
   "metadata": {},
   "cell_type": "markdown",
   "source": "# Reflektierende Ebene\n",
   "id": "e0afb6a78546bb00"
  },
  {
   "metadata": {
    "ExecuteTime": {
     "end_time": "2025-01-14T16:02:16.043440Z",
     "start_time": "2025-01-14T16:02:15.335859Z"
    }
   },
   "cell_type": "code",
   "source": [
    "import numpy as np\n",
    "import matplotlib.pyplot as plt\n",
    "from jsonschema.validators import extend\n",
    "\n",
    "xrange = np.linspace(-10, 10, 1000)\n",
    "yrange = np.linspace(-10, 10, 1000)\n",
    "\n",
    "x, y = np.meshgrid(xrange, yrange)\n"
   ],
   "id": "7fb4b4f39a695411",
   "outputs": [],
   "execution_count": 1
  },
  {
   "metadata": {
    "ExecuteTime": {
     "end_time": "2025-01-14T16:02:16.052651Z",
     "start_time": "2025-01-14T16:02:16.048909Z"
    }
   },
   "cell_type": "code",
   "source": [
    "reach = 1000\n",
    "i = 1j\n",
    "f = 5\n",
    "\n",
    "def sender(a,b):\n",
    "    r = (x-a,y+b)\n",
    "    rabs = np.linalg.norm(r,axis=0)\n",
    "    \n",
    "    s = np.exp(i*f*rabs)\n",
    "    r1 = reach/rabs**2\n",
    "    return r1*s"
   ],
   "id": "e09c77bd7322faa4",
   "outputs": [],
   "execution_count": 2
  },
  {
   "metadata": {
    "ExecuteTime": {
     "end_time": "2025-01-21T21:01:17.348490Z",
     "start_time": "2025-01-21T21:01:17.088456Z"
    }
   },
   "cell_type": "code",
   "source": [
    "q1 = sender(0,0)\n",
    "q2 = sender(0,5)\n",
    "q3 = sender(3,-2)\n",
    "\n",
    "plt.imshow(np.log10(np.abs(q1+q2+q3)+1), extent=(-10, 10, -10, 10),cmap=\"viridis\")\n",
    "plt.plot(0,0,\"ro\")\n",
    "plt.plot(0,5,\"ro\")\n",
    "plt.plot(3,-2,\"ro\")\n",
    "plt.colorbar()\n",
    "plt.show()\n",
    "plt.imshow(np.abs(np.log10(q1-(q2+q3))+np.log10(q2-(q1+q3))+np.log10(q3-(q2+q1))), extent=(-10, 10, -10, 10),cmap=\"viridis\")\n",
    "plt.colorbar()"
   ],
   "id": "e16462a375960aa6",
   "outputs": [
    {
     "ename": "NameError",
     "evalue": "name 'sender' is not defined",
     "output_type": "error",
     "traceback": [
      "\u001B[1;31m---------------------------------------------------------------------------\u001B[0m",
      "\u001B[1;31mNameError\u001B[0m                                 Traceback (most recent call last)",
      "Cell \u001B[1;32mIn[2], line 1\u001B[0m\n\u001B[1;32m----> 1\u001B[0m q1 \u001B[38;5;241m=\u001B[39m \u001B[43msender\u001B[49m(\u001B[38;5;241m0\u001B[39m,\u001B[38;5;241m0\u001B[39m)\n\u001B[0;32m      2\u001B[0m q2 \u001B[38;5;241m=\u001B[39m sender(\u001B[38;5;241m0\u001B[39m,\u001B[38;5;241m5\u001B[39m)\n\u001B[0;32m      3\u001B[0m \u001B[38;5;66;03m#q3 = sender(3,-2)\u001B[39;00m\n",
      "\u001B[1;31mNameError\u001B[0m: name 'sender' is not defined"
     ]
    }
   ],
   "execution_count": 2
  },
  {
   "metadata": {},
   "cell_type": "markdown",
   "source": "# Übung 1\n",
   "id": "e3d2f88520e62a78"
  },
  {
   "metadata": {},
   "cell_type": "code",
   "outputs": [],
   "execution_count": null,
   "source": [
    "# Ein Signal\n",
    "def s(t, f):\n",
    "    np.exp(np.imag(2*np.pi*f*t))\n"
   ],
   "id": "c54b2874ee406f19"
  }
 ],
 "metadata": {
  "kernelspec": {
   "display_name": "Python 3",
   "language": "python",
   "name": "python3"
  },
  "language_info": {
   "codemirror_mode": {
    "name": "ipython",
    "version": 2
   },
   "file_extension": ".py",
   "mimetype": "text/x-python",
   "name": "python",
   "nbconvert_exporter": "python",
   "pygments_lexer": "ipython2",
   "version": "2.7.6"
  }
 },
 "nbformat": 4,
 "nbformat_minor": 5
}
