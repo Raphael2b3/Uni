{
 "cells": [
  {
   "metadata": {},
   "cell_type": "markdown",
   "source": "# Grundlagen der mobilen Kommunikation",
   "id": "281252fbd03974b3"
  },
  {
   "metadata": {},
   "cell_type": "markdown",
   "source": "",
   "id": "f003444b316155bf"
  },
  {
   "metadata": {},
   "cell_type": "markdown",
   "source": [
    "$ Kapazität = Bandpreite * log_2(1 + \\frac{Signalleistung} {Rauschleistung}) $\n",
    "\n",
    "$ Signalleistung \\propto \\frac{1}{Frequenz^2}^2 $\n",
    "\n",
    "$ P_T := \\text{Sendeleistung} [W] $\n",
    "\n",
    "$ P_R := \\text{Empfangsleistung} [W] $\n",
    "\n",
    "$ S_R := \\text{Leistungsdichte} [W/m^2] $  \n",
    "\n",
    "$ G_R := \\text{Relativer Gewinn im Verlgeich zur  isotropen Antenne} $\n",
    "\n",
    "$ G_T := \\text{Antennengewinn am Sender} $  \n",
    "\n",
    "$ \\lambda := \\text{Wellenlänge} $\n",
    " \n",
    " \n",
    "$ 4 \\pi r^2 := \\text{Fläche} [m^2] $\n",
    "\n",
    "$ S_R = \\frac{P_T}{4 \\pi r^2} $\n",
    "\n",
    "$ P_R = S_R * A_{eff} $\n",
    "\n",
    "$ A_{eff} = [\\frac{\\lambda^2}{4 \\pi}]G_R $\n",
    "\n",
    "$ P_R = P_T G_T G_R ( \\frac{\\lambda}{4 \\pi d} )^2  $\n"
   ],
   "id": "1c66f35623acdb9a"
  },
  {
   "metadata": {},
   "cell_type": "code",
   "outputs": [],
   "execution_count": null,
   "source": "",
   "id": "27ba758d90655c56"
  }
 ],
 "metadata": {
  "kernelspec": {
   "display_name": "Python 3",
   "language": "python",
   "name": "python3"
  },
  "language_info": {
   "codemirror_mode": {
    "name": "ipython",
    "version": 2
   },
   "file_extension": ".py",
   "mimetype": "text/x-python",
   "name": "python",
   "nbconvert_exporter": "python",
   "pygments_lexer": "ipython2",
   "version": "2.7.6"
  }
 },
 "nbformat": 4,
 "nbformat_minor": 5
}
