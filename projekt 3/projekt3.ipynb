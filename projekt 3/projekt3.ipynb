{
 "cells": [
  {
   "metadata": {},
   "cell_type": "markdown",
   "source": [
    "# Finde ein effizientes Programm um eine Floyd Rose Gitarre zu stimmen\n",
    "\n",
    "## 1. Einleitung\n",
    "\n",
    "Floyd Rose Gitarren sind eine spezielle Art von E-Gitarren, die eine spezielle Art von Brücke verwenden, die als Floyd Rose Tremolo bekannt ist. Diese Brücke ermöglicht es dem Gitarristen, die Tonhöhe der Saiten zu ändern, indem er einen Hebel betätigt, der an der Brücke befestigt ist. Dies ermöglicht es dem Gitarristen, spezielle Effekte wie Vibrato und Divebombs zu erzeugen. Es erschwert jedoch auch das Stimmen der Gitarre erheblich, da bei dem Stimmen einer Saite die anderen Saiten ebenfalls verstimmt werden können, da die Spannung der Saiten auf der Brücke verteilt ist. Ein Grund dafür ist das die Saiten an Federn aufgehängt sind. Dies kann dazu führen, dass das Stimmen einer Floyd Rose Gitarre sehr zeitaufwändig ist.\n",
    "\n",
    "In dieser Arbeit stellen wir zunächst ein Experiment auf, welches uns informationen über das Verhalten der Saiten gibt, wenn wir eine Saite stimmen. Mit diesen Informationen leiten wir ein mathematisches Modell ab, welches uns erlaubt, die Saiten einer Floyd Rose Gitarre effizient zu stimmen. Es soll berechnet werden welche Saiten in welcher Reihenfolge zu welcher Frequenz gestimmt werden müssen, um die Gitarre möglichst schnell und genau zu stimmen.\n",
    "\n",
    "Auf dem Weg zu diesem Ziel werden wir ein Programm erstellen, welches uns erlaubt die Frequenz von Saiten zu messen. Die Messdaten von dem Experiment werden Visualisiert und anhand dessen wird das mathematische Modell erstellt.\n",
    "\n",
    "Anschließend wird ein Program erstellt welches berechnet, welche Saiten in welcher Reihenfolge zu welcher Frequenz gestimmt werden müssen, um die Gitarre möglichst schnell und genau zu stimmen.\n",
    "\n",
    "Die Arbeit wird in folgende Schritte unterteilt:\n",
    "1. Experiment\n",
    "2. Visualisierung\n",
    "3. Mathematisches Modell\n",
    "4. Programmierung\n",
    "5. Testen\n",
    "6. Optimierung\n",
    "7. Weiterführendes\n",
    "\n",
    "## 2. Experiment\n",
    "\n",
    "Um die Saiten einer Floyd Rose Gitarre effizient zu stimmen, müssen wir zunächst ein Experiment durchführen, welches uns Informationen über das Verhalten der Saiten gibt, wenn wir eine Saite stimmen.\n",
    "\n",
    "Dazu wird zunächst jede Saite in eine Ausgangsposition gebracht. Eine Standard Gitarren Stimmung ist EADGBE. Die Saiten werden so gestimmt, dass sie die Frequenzen E2, A2, D3, G3, B3 und E4 haben. Es handelt sich hierbei um die gleich temperierte Stimmung[1].\n",
    "Die Saiten werden demnach die Frequenzen haben:\\\n",
    "E2 = 82.41 Hz\\\n",
    "A2 = 110.00 Hz\\\n",
    "D3 = 146.83 Hz\\\n",
    "G3 = 196.00 Hz\\\n",
    "B3 = 246.94 Hz\\\n",
    "E4 = 329.63 Hz\n",
    "\n",
    "Dann wird jede Saite um ein Bestimmtes delta verstimmt. Das Delta wird so gewählt, dass die Frequenz der Saite um 20 Cent[2] erhöht wird. Die Frequenz der Saiten wird gemessen und aufgezeichnet.\n",
    "\n",
    "delta = 20 Cent\n",
    "\n",
    "Die Einheit Cent wird gewählt, da sie eine logarithmische Einheit ist, die in der Musik verwendet wird, um die Tonhöhe von Tönen zu beschreiben. Ein Cent entspricht einem Hundertstel eines Halbtons.\n",
    "\n",
    "Jede Saite wird um 10 delta Schritte jeweils nach oben und nach unten verstimmt. Für jeden Schritt wird die Frequenz der anderen Saiten gemessen und aufgezeichnet.\n",
    "\n",
    "Schritte in beide Richtungen = 10\n",
    "\n",
    "Das Ziel des Experiments ist zu beobachten ob das System\n",
    "- linear ist\n",
    "- elastisch ist\n",
    "\n",
    "Die erkenntnisse bestimmen später das mathematische Modell.\n",
    "\n",
    "### 2.1 Materialien\n",
    "- Floyd Rose Gitarre\n",
    "- Frequenz Messgerät\n",
    "- Visualisierungssoftware\n",
    "\n",
    "Die Floyd Rose Gitarre ist verfügbar. Das Frequenz Messgerät wird ein Python Programm sein, welches die Frequenz der Saiten misst. Die Visualisierungssoftware wird ebenfalls ein Python Programm sein, welches die Messdaten visualisiert.\n",
    "\n",
    "#### 2.1.1 Frequenz Messgerät\n",
    "\n",
    "Gegeben sei eine Liste von Samples. Diese Liste wird mit Hilfe der Fourier Transformation in den Frequenzbereich transformiert. Die Frequenz mit der höchsten Amplitude wird als die Frequenz der Saite angenommen.\n"
   ],
   "id": "5fd1bd65b32abf8e"
  },
  {
   "metadata": {
    "ExecuteTime": {
     "end_time": "2024-11-30T10:05:14.505916Z",
     "start_time": "2024-11-30T10:05:14.488435Z"
    }
   },
   "cell_type": "code",
   "source": [
    "from scipy.fftpack import fft\n",
    "from scipy.io import wavfile  # Import the wavfile API\n",
    "import numpy as np\n",
    "\n",
    "def get_samples(filepath):\n",
    "    fs, data = wavfile.read(filepath)  # Load the data\n",
    "    if len(data.shape) > 1:  # Check if stereo\n",
    "        data = data.mean(axis=1)  # Convert to mono by averaging channels\n",
    "    return data, fs\n",
    "\n",
    "def fourier_transform(samples):\n",
    "    # Normalize the data\n",
    "    max_val = 2 ** (8 * samples.itemsize - 1)\n",
    "    normalized_data = samples / max_val\n",
    "    # Calculate the Fourier transform\n",
    "    spectrum = fft(normalized_data)\n",
    "    half = len(spectrum) // 2  # Take the first half of the spectrum\n",
    "    return spectrum[:half]\n",
    "\n",
    "def get_peak_frequency(spectrum, samplerate):\n",
    "    # Get the magnitude of the spectrum\n",
    "    magnitude = np.abs(spectrum)\n",
    "    # Find the index of the peak frequency\n",
    "    peak_idx = np.argmax(magnitude)\n",
    "    # Map the index to a frequency value\n",
    "    frequency = peak_idx * (samplerate / (2 * len(spectrum)))\n",
    "    return frequency\n",
    "\n",
    "def get_tone_from_file(filepath):\n",
    "    samples, samplerate = get_samples(filepath)\n",
    "    spectrum = fourier_transform(samples)\n",
    "    return get_peak_frequency(spectrum, samplerate)"
   ],
   "id": "2e51fa323070ebe8",
   "outputs": [],
   "execution_count": 71
  },
  {
   "metadata": {},
   "cell_type": "markdown",
   "source": [
    "#### 2.1.2 Cent Messgerät\n",
    "Da wir nun die Frequenz Messen können, müssen wir den Unterschied zweier Frequenzen in Cent umwandeln. Dazu wird die folgende Funktion erstellt."
   ],
   "id": "807c25cb8b0af61f"
  },
  {
   "metadata": {
    "ExecuteTime": {
     "end_time": "2024-11-30T10:05:25.417828Z",
     "start_time": "2024-11-30T10:05:25.384357Z"
    }
   },
   "cell_type": "code",
   "source": [
    "def frequency_difference_to_cent(f1,f2):\n",
    "    return 1200 * np.log2(f1/f2) # 1200 Cent entsprechen einem Halbton"
   ],
   "id": "d9daefb5a76a44f1",
   "outputs": [],
   "execution_count": 72
  },
  {
   "metadata": {},
   "cell_type": "markdown",
   "source": [
    "\n",
    "#### 2.1.2 Visualisierungssoftware\n",
    "\n",
    "Mit hilfe von matplotlib wird eine Visualisierung erstellt. Die Visualisierung zeigt die Frequenz der Saiten in Abhängigkeit von der Verstimmung.\n",
    "Die daten zum Visualisieren werden wie folgt strukturiert:\n",
    "\n",
    "```\n",
    "{\n",
    "    'E2': {\n",
    "        'E2': array([-10,...,10]),\n",
    "        'D3': array([record_-10,record_-9,...,record_10]),\n",
    "        ...,\n",
    "        'E4': array([records_per_step,...])\n",
    "    },\n",
    "    ...\n",
    "    'E4': {\n",
    "        'E2': array([records_per_step,...]),\n",
    "        'A2': array([records_per_step,...]),\n",
    "        ...,\n",
    "        'E4': array([-10,...,10])\n",
    "    }\n",
    "}\n",
    "```\n",
    "\n",
    "Das folgende Programm ermöglicht es uns, die Daten zu visualisieren. Es wird eine Checkbox für jede Saite erstellt, die es uns ermöglicht, die Daten für jede Saite einzeln anzuzeigen. Die Visualisierung zeigt die Auswirkungen der Verstimmung einer Saite auf die Frequenz der anderen Saiten."
   ],
   "id": "ccfb136091f19aac"
  },
  {
   "metadata": {
    "ExecuteTime": {
     "end_time": "2024-11-30T10:05:31.187917Z",
     "start_time": "2024-11-30T10:05:28.077329Z"
    }
   },
   "cell_type": "code",
   "source": [
    "import matplotlib.pyplot as plt\n",
    "from ipywidgets import  HBox, VBox, interactive, Layout, Checkbox, fixed\n",
    "import random\n",
    "\n",
    "nStrings = 6\n",
    "steps = 10\n",
    "step_range = range(-steps, steps+1) # -10 bis 10\n",
    "strings = [\"E2\", \"A2\", \"D3\", \"G3\", \"B3\", \"E4\"]\n",
    "# Verstimmung jeder anderen seite für jede Saite für alle Verstimmungsschritte\n",
    "example_dataset = { # Dummy Data\n",
    "    string: {other_string: np.array([ -_*random.random()if other_string != string else _ for _ in step_range]) for other_string in strings}\n",
    "    for string in strings\n",
    "}\n",
    "\n",
    "\n",
    "def visualisation(df,string,**args):\n",
    "    for other_string in strings:\n",
    "        if other_string in args.keys() and args[other_string]:\n",
    "            plt.plot(step_range, df[string][other_string], label=other_string)\n",
    "    plt.title(\"Impact on String when detuning String \"+string)\n",
    "    plt.xlabel(f\"Detuning of String {string} in Cent\")\n",
    "    plt.ylabel(f\"Frequency of other Strings in Cent\")\n",
    "    plt.legend()\n",
    "\n",
    "\n",
    "def visualize_all(data):\n",
    "    widget_list = []\n",
    "\n",
    "    for string in strings:\n",
    "        checkboxes = {string: Checkbox(value=True,label=string,indent=False) for string in strings}\n",
    "        widget = interactive(visualisation,df=fixed(data),string=fixed(string),**checkboxes)\n",
    "        controls = HBox(widget.children[:-1]) # Horizontale Box für die Checkboxes\n",
    "        output = widget.children[-1]\n",
    "        w=VBox([controls, output], layout=Layout(margin=\"10px\"))\n",
    "        widget_list.append(w)\n",
    "    row1 = HBox(widget_list[:3])\n",
    "    row2 = HBox(widget_list[3:])\n",
    "    output = VBox([row1, row2])\n",
    "    display(output)\n",
    "\n",
    "\n",
    "\n",
    "visualize_all(example_dataset)\n"
   ],
   "id": "43ffb581fde5b310",
   "outputs": [
    {
     "data": {
      "text/plain": [
       "VBox(children=(HBox(children=(VBox(children=(HBox(children=(Checkbox(value=True, description='E2', indent=Fals…"
      ],
      "application/vnd.jupyter.widget-view+json": {
       "version_major": 2,
       "version_minor": 0,
       "model_id": "775352f845524d299be4577fc3413e3a"
      }
     },
     "metadata": {},
     "output_type": "display_data"
    }
   ],
   "execution_count": 73
  },
  {
   "metadata": {},
   "cell_type": "markdown",
   "source": [
    "### 2.2 Durchführung\n",
    "\n",
    "In der Live Demo wird das Experiment durchgeführt. Die Frequenz der Saiten wird gemessen und die Daten werden visualisiert.\n",
    "Hier werden nun vorab aufgenommene Daten verwendet. Die Audio Dateien sind im Ordner `audio` zu finden.\n",
    "Die Ordnerstruktur ist wie folgt:\n",
    "\n",
    "    ```\n",
    "    audio/<variable_saite>/<beeinflusste_saite>/<verstimmungsschritt>.wav\n",
    "\n",
    "    audio\n",
    "    ├── E2 # Ändernde Saite\n",
    "      ├── E2 # Beinflusste Saite (Trivialer Fall da die Frequenz der Saite sich nicht ändert)\n",
    "        ├─── -10.wav\n",
    "        ├─── ...\n",
    "        ├─── 10.wav\n",
    "      ├─── ...\n",
    "      ├─── E4\n",
    "    ├── ...\n",
    "    ├── E4"
   ],
   "id": "6dcc73d408a7f785"
  },
  {
   "metadata": {},
   "cell_type": "code",
   "outputs": [],
   "execution_count": null,
   "source": [
    "# Experiment\n",
    "measured_data = {}\n",
    "filenames =  [f\"{i}.wav\" for i in step_range]\n",
    "original_frequencies = [82.41, 110.00, 146.83, 196.00, 246.94, 329.63]\n",
    "for changing_string in strings:\n",
    "    for impacted_string in strings:\n",
    "        for filename in filenames:\n",
    "            samples = get_samples(f\"audio/{changing_string}/{impacted_string}/{filename}\")\n",
    "            frequency = get_tone_from_samples(samples)\n",
    "            f0 = original_frequencies[strings.index(changing_string)]\n",
    "            cent = frequency_difference_to_cent(f0, frequency)\n",
    "\n",
    "            print(f\"Saite: {changing_string}, Beeinflusste Saite: {impacted_string}, Verstimmungsschritt: {filename}, Verstimmung in Cent {cent}, Frequenz: {frequency}\")\n",
    "\n",
    "            if changing_string not in measured_data:\n",
    "                measured_data[changing_string] = {}\n",
    "\n",
    "            if impacted_string not in measured_data[changing_string]:\n",
    "                measured_data[changing_string][impacted_string] = []\n",
    "\n",
    "            measured_data[changing_string][impacted_string].append(cent)"
   ],
   "id": "d1a88d2f0aaf38c3"
  },
  {
   "metadata": {},
   "cell_type": "markdown",
   "source": "## 3. Visualisierung",
   "id": "1cce6a2f52aac958"
  },
  {
   "metadata": {
    "ExecuteTime": {
     "end_time": "2024-11-30T10:07:00.863461Z",
     "start_time": "2024-11-30T10:07:00.352408Z"
    }
   },
   "cell_type": "code",
   "source": "visualize_all(measured_data)",
   "id": "bf4fbb1ab4bfeb8d",
   "outputs": [
    {
     "data": {
      "text/plain": [
       "VBox(children=(HBox(children=(VBox(children=(HBox(children=(Checkbox(value=True, description='E2', indent=Fals…"
      ],
      "application/vnd.jupyter.widget-view+json": {
       "version_major": 2,
       "version_minor": 0,
       "model_id": "22ec9f51501b49cabc7ca6b1434d0f17"
      }
     },
     "metadata": {},
     "output_type": "display_data"
    }
   ],
   "execution_count": 75
  },
  {
   "metadata": {},
   "cell_type": "markdown",
   "source": [
    "### 4.1 Mathematisches Modell\n",
    "\n",
    "Die Messdaten zeigen dass das System linear ist. Das bedeutet, dass die Verstimmung einer Saite die Frequenz der anderen Saiten linear beeinflusst. Das System ist auch elastisch, was bedeutet, dass die Frequenz einer Saite wieder in ihren Ausgangszustand zurückkehrt, wenn die Verstimmung aufgehoben wird.\n",
    "\n",
    "Wir können das System als ein lineares Gleichungssystem beschreiben. Die Frequenz der Saiten kann als Vektor dargestellt werden. Die Verstimmung der Saiten kann als Matrix dargestellt werden. Die Verstimmung der Saiten ist eine lineare Transformation der Frequenz der Saiten.\n",
    "\n",
    "$$\n",
    "\\vec{f_0} = \\begin{pmatrix} {f_{E2}} \\\\ {f_{A2}} \\\\ {f_{D3}} \\\\ {f_{G3}} \\\\ {f_{B3}} \\\\ {f_{e4}} \\end{pmatrix},\n",
    "C = \\begin{bmatrix} {1} & { c_{12} } & {c_{13}} & {c_{14}} & {c_{15}} & {c_{16}} \\\\ {c_{21}} & {1} & {c_{23}} & {c_{24}} & {c_{25}} & {c_{26}} \\\\ {c_{31}} & {c_{32}} & {1} & {c_{34}} & {c_{35}} & {c_{36}} \\\\ {c_{41}} & {c_{42}} & {c_{43}} & {1} & {c_{45}} & {c_{46}} \\\\ {c_{51}} & {c_{52}} & {c_{53}} & {c_{54}} & {1} & {c_{56}} \\\\ {c_{61}} & {c_{62}} & {c_{63}} & {c_{64}} & {c_{65}} & {1} \\end{bmatrix},\n",
    "\\vec{g} = \\begin{pmatrix} {\\hat{f}_{E2}} \\\\ {\\hat{f}_{A2}} \\\\ {\\hat{f}_{D3}} \\\\ {\\hat{f}_{G3}} \\\\ {\\hat{f}_{B3}} \\\\ {\\hat{f}_{e4}} \\end{pmatrix}\n",
    "$$\n",
    "\\\n",
    "$\\vec{f_0}$ sind die Frequenzen der Saiten in der Ausgangsposition.\\\n",
    "$C$ ist die Verstimmungsmatrix. Die Elemente $c_{ij}$ sind die Verstimmungsfaktoren der Saite $i$, wenn die Saite $j$ um 1 Schritt (20 Cent) verstimmt wird.\\\n",
    "$\\vec{g}$ sind die Frequenzen der Saiten nach der Verstimmung.\\\n",
    "$\\vec{g}$ wollen wir im allgemeinen als Zielfrequenzen erreichen.\n",
    "\n",
    "Die Annahme ist, es gibt eine Verstimmung $\\vec{\\delta}$ der Saiten, die die Frequenzen der Saiten in $\\vec{g}$ erreicht, wenn sie dem System $C$ unterworfen wird.\n",
    "\n",
    "$$\n",
    "\\vec{g} = add\\_cent\\_to\\_freq(C \\cdot \\vec{\\delta}, \\vec{f_0})\n",
    "$$\n",
    "\n",
    "$$\n",
    "\\vec{\\delta} = cent(\\vec{f_0}-\\vec{g}) \\cdot C^{-1}\n",
    "$$\n",
    "\n",
    "$C^{-1}$ ist die Inverse der Verstimmungsmatrix.\\\n",
    "$cent$ ist die Funktion, die die Frequenzdifferenz in Cent umwandelt.\\\n",
    "$add\\_cent\\_to\\_freq$ ist die Funktion, die die Verstimmung in Cent zu den Frequenzen der Saiten addiert.\n",
    "\n",
    "### 5. Programmierung\n",
    "Im folgendem werden die Funktionen `cent`, `add_cent_to_freq` und `find_coefficients` implementiert.\n",
    "\n",
    "#### 5.1 Funktionen\n",
    "\n",
    "\n"
   ],
   "id": "54838519af5d2f13"
  },
  {
   "metadata": {},
   "cell_type": "code",
   "outputs": [],
   "execution_count": null,
   "source": [
    "def cent(f1,f2):\n",
    "    return 1200 * np.log2(f1/f2) # 1200 Cent entsprechen einer Oktave\n",
    "\n",
    "def add_cent_to_freq(cent,freq):\n",
    "    return freq * 2 ** (cent/1200)/12\n",
    "\n",
    "def find_coefficients(f0, g, C):\n",
    "    return (g-f0) @ np.linalg.inv(C)\n"
   ],
   "id": "9304893afbc3ecd1"
  },
  {
   "metadata": {},
   "cell_type": "markdown",
   "source": [
    "## Literatur\n",
    "[1]Gleich temperierte Stimmung: https://de.wikipedia.org/wiki/Gleichstufige_Stimmung \\\n",
    "[2]Cent: https://de.wikipedia.org/wiki/Cent_(Musik)\n",
    "\n"
   ],
   "id": "f75ed078edd9a82d"
  },
  {
   "metadata": {},
   "cell_type": "code",
   "outputs": [],
   "execution_count": null,
   "source": "",
   "id": "946fdb81fa433831"
  }
 ],
 "metadata": {
  "kernelspec": {
   "display_name": "Python 3",
   "language": "python",
   "name": "python3"
  },
  "language_info": {
   "codemirror_mode": {
    "name": "ipython",
    "version": 2
   },
   "file_extension": ".py",
   "mimetype": "text/x-python",
   "name": "python",
   "nbconvert_exporter": "python",
   "pygments_lexer": "ipython2",
   "version": "2.7.6"
  }
 },
 "nbformat": 4,
 "nbformat_minor": 5
}
