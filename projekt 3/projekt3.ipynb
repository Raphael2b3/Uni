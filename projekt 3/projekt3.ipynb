{
 "cells": [
  {
   "metadata": {},
   "cell_type": "markdown",
   "source": [
    "# Finde ein effizientes Programm um eine Floyd Rose Gitarre zu stimmen\n",
    "\n",
    "## Einleitung\n",
    "\n",
    "Floyd Rose Gitarren sind eine spezielle Art von E-Gitarren, die eine spezielle Art von Brücke verwenden, die als Floyd Rose Tremolo bekannt ist. Diese Brücke ermöglicht es dem Gitarristen, die Tonhöhe der Saiten zu ändern, indem er einen Hebel betätigt, der an der Brücke befestigt ist. Dies ermöglicht es dem Gitarristen, spezielle Effekte wie Vibrato und Divebombs zu erzeugen. Es erschwert jedoch auch das Stimmen der Gitarre erheblich, da bei dem Stimmen einer Saite die anderen Saiten ebenfalls verstimmt werden können, da die Spannung der Saiten auf der Brücke verteilt ist. Ein Grund dafür ist das die Saiten an Federn aufgehängt sind. Dies kann dazu führen, dass das Stimmen einer Floyd Rose Gitarre sehr zeitaufwändig ist.\n",
    "\n",
    "In dieser Arbeit stellen wir zunächst ein Experiment auf, welches uns informationen über das Verhalten der Saiten gibt, wenn wir eine Saite stimmen. Mit diesen Informationen leiten wir ein mathematisches Modell ab, welches uns erlaubt, die Saiten einer Floyd Rose Gitarre effizient zu stimmen. Es soll berechnet werden welche Saiten in welcher Reihenfolge zu welcher Frequenz gestimmt werden müssen, um die Gitarre möglichst schnell und genau zu stimmen.\n",
    "\n",
    "Auf dem Weg zu diesem Ziel werden wir ein Programm erstellen, welches uns erlaubt die Frequenz von Saiten zu messen. Die Messdaten von dem Experiment werden Visualisiert und anhand dessen wird das mathematische Modell erstellt.\n",
    "\n",
    "Anschließend wird ein Program erstellt welches berechnet, welche Saiten in welcher Reihenfolge zu welcher Frequenz gestimmt werden müssen, um die Gitarre möglichst schnell und genau zu stimmen.\n",
    "\n",
    "Die Arbeit wird in folgende Schritte unterteilt:\n",
    "1. Experiment\n",
    "2. Visualisierung\n",
    "3. Mathematisches Modell\n",
    "4. Programmierung\n",
    "5. Testen\n",
    "6. Optimierung\n",
    "7. Dokumentation\n",
    "8. Präsentation\n",
    "\n",
    "## Experiment\n",
    "\n",
    "Um die Saiten einer Floyd Rose Gitarre effizient zu stimmen, müssen wir zunächst ein Experiment durchführen, welches uns Informationen über das Verhalten der Saiten gibt, wenn wir eine Saite stimmen.\n",
    "\n",
    "Dazu wird zunächst jede Saite in eine Ausgangsposition gebracht. Eine Standard Gitarren Stimmung ist EADGBE. Die Saiten werden so gestimmt, dass sie die Frequenzen E2, A2, D3, G3, B3 und E4 haben. Es handelt sich hierbei umd die gleich temperierte Stimmung.\n",
    "Die Saiten werden demnach die Frequenzen haben:\n",
    "E2 = 82.41 Hz\n",
    "A2 = 110.00 Hz\n",
    "D3 = 146.83 Hz\n",
    "G3 = 196.00 Hz\n",
    "B3 = 246.94 Hz\n",
    "E4 = 329.63 Hz\n",
    "\n",
    "Dann wird jede Saite um ein Bestimmtes delta verstimmt. Das Delta wird so gewählt, dass die Frequenz der Saite um 1 Hz erhöht wird. Die Frequenz der Saiten wird gemessen und aufgezeichnet.\n",
    "\n",
    "delta = 1 Hz\n",
    "\n",
    "Jede Saite wird um 10 delta Schritte jeweils nach oben und nach unten verstimmt. Für jeden Schritt wird die Frequenz der anderen Saiten gemessen und aufgezeichnet.\n",
    "\n",
    "Schritte in beide Richtungen = 10\n",
    "\n",
    "Das Ziel des Experiments ist zu beobachten ob das System\n",
    "- linear ist\n",
    "- elastisch ist\n",
    "\n",
    "Die erkenntnisse bestimmen später das mathematische Modell.\n",
    "\n",
    "### Materialien\n",
    "- Floyd Rose Gitarre\n",
    "- Frequenz Messgerät\n",
    "- Visualisierungssoftware\n",
    "\n",
    "Die Floyd Rose Gitarre ist verfügbar. Das Frequenz Messgerät wird ein Python Programm sein, welches die Frequenz der Saiten misst. Die Visualisierungssoftware wird ebenfalls ein Python Programm sein, welches die Messdaten visualisiert.\n",
    "\n",
    "#### Frequenz Messgerät\n",
    "\n",
    "Gegeben sei eine Liste von Samples. Diese Liste wird mit Hilfe der Fourier Transformation in den Frequenzbereich transformiert. Die Frequenz mit der höchsten Amplitude wird als die Frequenz der Saite angenommen.\n"
   ],
   "id": "5fd1bd65b32abf8e"
  },
  {
   "metadata": {},
   "cell_type": "code",
   "outputs": [],
   "execution_count": null,
   "source": [
    "import random\n",
    "\n",
    "\n",
    "def get_samples():\n",
    "    # Input from audio device or file\n",
    "    return [1,2,3,4,5,6,7,8,9,10]\n",
    "\n",
    "def fourier_transform(samples):\n",
    "    # Fourier Transformation\n",
    "    return [1,2,3,4,5,6,7,8,9,10]\n",
    "\n",
    "def get_peak_frequency(frequencies):\n",
    "    # Get peak frequency\n",
    "    return 1\n",
    "\n",
    "def get_tone_from_samples(samples):\n",
    "    frequencies = fourier_transform(samples)\n",
    "    return get_peak_frequency(frequencies)"
   ],
   "id": "2e51fa323070ebe8"
  },
  {
   "metadata": {},
   "cell_type": "markdown",
   "source": [
    "\n",
    "\n",
    "#### Visualisierungssoftware\n",
    "\n",
    "Mit hilfe von matplotlib wird eine Visualisierung erstellt. Die Visualisierung zeigt die Frequenz der Saiten in Abhängigkeit von der Verstimmung.\n",
    "##### Die Daten\n"
   ],
   "id": "1a0046abccaf2df7"
  },
  {
   "metadata": {
    "ExecuteTime": {
     "end_time": "2024-11-29T16:45:28.247793Z",
     "start_time": "2024-11-29T16:45:27.819282Z"
    }
   },
   "cell_type": "code",
   "source": [
    "import numpy as np\n",
    "import matplotlib.pyplot as plt\n",
    "import ipywidgets as widgets\n",
    "import random\n",
    "nStrings = 6\n",
    "steps = 10\n",
    "step_range = range(-steps, steps+1) # -10 bis 10\n",
    "strings = [\"E2\", \"A2\", \"D3\", \"G3\", \"B3\", \"E4\"]\n",
    "# Verstimmung jeder anderen seite für jede Saite für alle Verstimmungsschritte\n",
    "example_dataset = {\n",
    "    string: {other_string: np.array([ -_*random.random() for _ in step_range]) for other_string in strings if other_string != string}\n",
    "    for string in strings\n",
    "}\n",
    "\n",
    "\"\"\"\n",
    "example_dataset = {\n",
    "    'E2': {\n",
    "        'A2': array([records_per_step,...]),\n",
    "        'D3': array([records_per_step,...]),\n",
    "        ...,\n",
    "        'E4': array([records_per_step,...])\n",
    "    },\n",
    "    'A2': {\n",
    "        'E2': array([records_per_step,...]),\n",
    "        'D3': array([records_per_step,...]),\n",
    "        ...,\n",
    "        'E4': array([records_per_step,...])\n",
    "    },\n",
    "    ...\n",
    "    'E4': {\n",
    "        'E2': array([records_per_step,...]),\n",
    "        'A2': array([records_per_step,...]),\n",
    "        ...,\n",
    "        'B3': array([records_per_step,...])\n",
    "    }\n",
    "\"\"\"\n",
    "\n",
    "def visualisation(df,string,_plt,**args):\n",
    "    for other_string in strings:\n",
    "        if other_string in args.keys() and args[other_string]:\n",
    "            _plt.plot(step_range, df[string][other_string], label=other_string)\n",
    "    _plt.title(\"Impact on String when detuning String \"+string)\n",
    "    _plt.xlabel(f\"Detuning of String {string} in Hz\")\n",
    "    _plt.ylabel(f\"Frequency of other Strings in Hz\")\n",
    "    _plt.legend()\n",
    "    _plt.show()\n",
    "\n",
    "def visualize_all(data):\n",
    "    fig , plots = plt.subplots(2,3)\n",
    "    plots_list = [plots[i//3][i%3] for i in range(6)]\n",
    "\n",
    "    i = 0\n",
    "    for string in strings:\n",
    "        activatables = {other_string: True for other_string in strings if other_string != string}\n",
    "        widgets.interact(visualisation,df=data,string=string,_plt=plots_list[i], **activatables)\n",
    "        i+=1\n",
    "        #widget_collection.append(w)\n",
    "\n",
    "visualize_all(example_dataset)\n"
   ],
   "id": "43ffb581fde5b310",
   "outputs": [
    {
     "ename": "ValueError",
     "evalue": "<Axes: > cannot be transformed to a widget",
     "output_type": "error",
     "traceback": [
      "\u001B[1;31m---------------------------------------------------------------------------\u001B[0m",
      "\u001B[1;31mValueError\u001B[0m                                Traceback (most recent call last)",
      "Cell \u001B[1;32mIn[14], line 58\u001B[0m\n\u001B[0;32m     55\u001B[0m         i\u001B[38;5;241m+\u001B[39m\u001B[38;5;241m=\u001B[39m\u001B[38;5;241m1\u001B[39m\n\u001B[0;32m     56\u001B[0m         \u001B[38;5;66;03m#widget_collection.append(w)\u001B[39;00m\n\u001B[1;32m---> 58\u001B[0m \u001B[43mvisualize_all\u001B[49m\u001B[43m(\u001B[49m\u001B[43mexample_dataset\u001B[49m\u001B[43m)\u001B[49m\n",
      "Cell \u001B[1;32mIn[14], line 54\u001B[0m, in \u001B[0;36mvisualize_all\u001B[1;34m(data)\u001B[0m\n\u001B[0;32m     52\u001B[0m \u001B[38;5;28;01mfor\u001B[39;00m string \u001B[38;5;129;01min\u001B[39;00m strings:\n\u001B[0;32m     53\u001B[0m     activatables \u001B[38;5;241m=\u001B[39m {other_string: \u001B[38;5;28;01mTrue\u001B[39;00m \u001B[38;5;28;01mfor\u001B[39;00m other_string \u001B[38;5;129;01min\u001B[39;00m strings \u001B[38;5;28;01mif\u001B[39;00m other_string \u001B[38;5;241m!=\u001B[39m string}\n\u001B[1;32m---> 54\u001B[0m     \u001B[43mwidgets\u001B[49m\u001B[38;5;241;43m.\u001B[39;49m\u001B[43minteract\u001B[49m\u001B[43m(\u001B[49m\u001B[43mvisualisation\u001B[49m\u001B[43m,\u001B[49m\u001B[43mdf\u001B[49m\u001B[38;5;241;43m=\u001B[39;49m\u001B[43mdata\u001B[49m\u001B[43m,\u001B[49m\u001B[43mstring\u001B[49m\u001B[38;5;241;43m=\u001B[39;49m\u001B[43mstring\u001B[49m\u001B[43m,\u001B[49m\u001B[43m_plt\u001B[49m\u001B[38;5;241;43m=\u001B[39;49m\u001B[43mplots_list\u001B[49m\u001B[43m[\u001B[49m\u001B[43mi\u001B[49m\u001B[43m]\u001B[49m\u001B[43m,\u001B[49m\u001B[43m \u001B[49m\u001B[38;5;241;43m*\u001B[39;49m\u001B[38;5;241;43m*\u001B[39;49m\u001B[43mactivatables\u001B[49m\u001B[43m)\u001B[49m\n\u001B[0;32m     55\u001B[0m     i\u001B[38;5;241m+\u001B[39m\u001B[38;5;241m=\u001B[39m\u001B[38;5;241m1\u001B[39m\n",
      "File \u001B[1;32m~\\Documents\\dev\\GitHub\\csv analyse\\.venv\\Lib\\site-packages\\ipywidgets\\widgets\\interaction.py:536\u001B[0m, in \u001B[0;36m_InteractFactory.__call__\u001B[1;34m(self, _InteractFactory__interact_f, **kwargs)\u001B[0m\n\u001B[0;32m    528\u001B[0m     \u001B[38;5;28;01mreturn\u001B[39;00m \u001B[38;5;28mself\u001B[39m\n\u001B[0;32m    530\u001B[0m \u001B[38;5;66;03m# positional arg support in: https://gist.github.com/8851331\u001B[39;00m\n\u001B[0;32m    531\u001B[0m \u001B[38;5;66;03m# Handle the cases 1 and 2\u001B[39;00m\n\u001B[0;32m    532\u001B[0m \u001B[38;5;66;03m# 1. interact(f, **kwargs)\u001B[39;00m\n\u001B[0;32m    533\u001B[0m \u001B[38;5;66;03m# 2. @interact\u001B[39;00m\n\u001B[0;32m    534\u001B[0m \u001B[38;5;66;03m#    def f(*args, **kwargs):\u001B[39;00m\n\u001B[0;32m    535\u001B[0m \u001B[38;5;66;03m#        ...\u001B[39;00m\n\u001B[1;32m--> 536\u001B[0m w \u001B[38;5;241m=\u001B[39m \u001B[38;5;28;43mself\u001B[39;49m\u001B[38;5;241;43m.\u001B[39;49m\u001B[43mwidget\u001B[49m\u001B[43m(\u001B[49m\u001B[43mf\u001B[49m\u001B[43m)\u001B[49m\n\u001B[0;32m    537\u001B[0m \u001B[38;5;28;01mtry\u001B[39;00m:\n\u001B[0;32m    538\u001B[0m     f\u001B[38;5;241m.\u001B[39mwidget \u001B[38;5;241m=\u001B[39m w\n",
      "File \u001B[1;32m~\\Documents\\dev\\GitHub\\csv analyse\\.venv\\Lib\\site-packages\\ipywidgets\\widgets\\interaction.py:452\u001B[0m, in \u001B[0;36m_InteractFactory.widget\u001B[1;34m(self, f)\u001B[0m\n\u001B[0;32m    436\u001B[0m \u001B[38;5;28;01mdef\u001B[39;00m \u001B[38;5;21mwidget\u001B[39m(\u001B[38;5;28mself\u001B[39m, f):\n\u001B[0;32m    437\u001B[0m \u001B[38;5;250m    \u001B[39m\u001B[38;5;124;03m\"\"\"\u001B[39;00m\n\u001B[0;32m    438\u001B[0m \u001B[38;5;124;03m    Return an interactive function widget for the given function.\u001B[39;00m\n\u001B[0;32m    439\u001B[0m \n\u001B[1;32m   (...)\u001B[0m\n\u001B[0;32m    450\u001B[0m \u001B[38;5;124;03m        The function to which the interactive widgets are tied.\u001B[39;00m\n\u001B[0;32m    451\u001B[0m \u001B[38;5;124;03m    \"\"\"\u001B[39;00m\n\u001B[1;32m--> 452\u001B[0m     \u001B[38;5;28;01mreturn\u001B[39;00m \u001B[38;5;28;43mself\u001B[39;49m\u001B[38;5;241;43m.\u001B[39;49m\u001B[43mcls\u001B[49m\u001B[43m(\u001B[49m\u001B[43mf\u001B[49m\u001B[43m,\u001B[49m\u001B[43m \u001B[49m\u001B[38;5;28;43mself\u001B[39;49m\u001B[38;5;241;43m.\u001B[39;49m\u001B[43mopts\u001B[49m\u001B[43m,\u001B[49m\u001B[43m \u001B[49m\u001B[38;5;241;43m*\u001B[39;49m\u001B[38;5;241;43m*\u001B[39;49m\u001B[38;5;28;43mself\u001B[39;49m\u001B[38;5;241;43m.\u001B[39;49m\u001B[43mkwargs\u001B[49m\u001B[43m)\u001B[49m\n",
      "File \u001B[1;32m~\\Documents\\dev\\GitHub\\csv analyse\\.venv\\Lib\\site-packages\\ipywidgets\\widgets\\interaction.py:187\u001B[0m, in \u001B[0;36minteractive.__init__\u001B[1;34m(self, _interactive__interact_f, _interactive__options, **kwargs)\u001B[0m\n\u001B[0;32m    185\u001B[0m     getcallargs(f, \u001B[38;5;241m*\u001B[39m\u001B[38;5;241m*\u001B[39m{n:v \u001B[38;5;28;01mfor\u001B[39;00m n,v,_ \u001B[38;5;129;01min\u001B[39;00m new_kwargs})\n\u001B[0;32m    186\u001B[0m \u001B[38;5;66;03m# Now build the widgets from the abbreviations.\u001B[39;00m\n\u001B[1;32m--> 187\u001B[0m \u001B[38;5;28mself\u001B[39m\u001B[38;5;241m.\u001B[39mkwargs_widgets \u001B[38;5;241m=\u001B[39m \u001B[38;5;28;43mself\u001B[39;49m\u001B[38;5;241;43m.\u001B[39;49m\u001B[43mwidgets_from_abbreviations\u001B[49m\u001B[43m(\u001B[49m\u001B[43mnew_kwargs\u001B[49m\u001B[43m)\u001B[49m\n\u001B[0;32m    189\u001B[0m \u001B[38;5;66;03m# This has to be done as an assignment, not using self.children.append,\u001B[39;00m\n\u001B[0;32m    190\u001B[0m \u001B[38;5;66;03m# so that traitlets notices the update. We skip any objects (such as fixed) that\u001B[39;00m\n\u001B[0;32m    191\u001B[0m \u001B[38;5;66;03m# are not DOMWidgets.\u001B[39;00m\n\u001B[0;32m    192\u001B[0m c \u001B[38;5;241m=\u001B[39m [w \u001B[38;5;28;01mfor\u001B[39;00m w \u001B[38;5;129;01min\u001B[39;00m \u001B[38;5;28mself\u001B[39m\u001B[38;5;241m.\u001B[39mkwargs_widgets \u001B[38;5;28;01mif\u001B[39;00m \u001B[38;5;28misinstance\u001B[39m(w, DOMWidget)]\n",
      "File \u001B[1;32m~\\Documents\\dev\\GitHub\\csv analyse\\.venv\\Lib\\site-packages\\ipywidgets\\widgets\\interaction.py:288\u001B[0m, in \u001B[0;36minteractive.widgets_from_abbreviations\u001B[1;34m(self, seq)\u001B[0m\n\u001B[0;32m    286\u001B[0m widget \u001B[38;5;241m=\u001B[39m \u001B[38;5;28mself\u001B[39m\u001B[38;5;241m.\u001B[39mwidget_from_abbrev(abbrev, default)\n\u001B[0;32m    287\u001B[0m \u001B[38;5;28;01mif\u001B[39;00m widget \u001B[38;5;129;01mis\u001B[39;00m \u001B[38;5;28;01mNone\u001B[39;00m:\n\u001B[1;32m--> 288\u001B[0m     \u001B[38;5;28;01mraise\u001B[39;00m \u001B[38;5;167;01mValueError\u001B[39;00m(\u001B[38;5;124m\"\u001B[39m\u001B[38;5;132;01m{!r}\u001B[39;00m\u001B[38;5;124m cannot be transformed to a widget\u001B[39m\u001B[38;5;124m\"\u001B[39m\u001B[38;5;241m.\u001B[39mformat(abbrev))\n\u001B[0;32m    289\u001B[0m \u001B[38;5;28;01mif\u001B[39;00m \u001B[38;5;129;01mnot\u001B[39;00m \u001B[38;5;28mhasattr\u001B[39m(widget, \u001B[38;5;124m\"\u001B[39m\u001B[38;5;124mdescription\u001B[39m\u001B[38;5;124m\"\u001B[39m) \u001B[38;5;129;01mor\u001B[39;00m \u001B[38;5;129;01mnot\u001B[39;00m widget\u001B[38;5;241m.\u001B[39mdescription:\n\u001B[0;32m    290\u001B[0m     widget\u001B[38;5;241m.\u001B[39mdescription \u001B[38;5;241m=\u001B[39m name\n",
      "\u001B[1;31mValueError\u001B[0m: <Axes: > cannot be transformed to a widget"
     ]
    },
    {
     "data": {
      "text/plain": [
       "<Figure size 640x480 with 6 Axes>"
      ],
      "image/png": "[encoded data removed]"
     },
     "metadata": {},
     "output_type": "display_data"
    }
   ],
   "execution_count": 14
  },
  {
   "metadata": {},
   "cell_type": "markdown",
   "source": [
    "## Literatur\n",
    "Gleich temperierte Stimmung: https://de.wikipedia.org/wiki/Gleichstufige_Stimmung\n"
   ],
   "id": "f75ed078edd9a82d"
  }
 ],
 "metadata": {
  "kernelspec": {
   "display_name": "Python 3",
   "language": "python",
   "name": "python3"
  },
  "language_info": {
   "codemirror_mode": {
    "name": "ipython",
    "version": 2
   },
   "file_extension": ".py",
   "mimetype": "text/x-python",
   "name": "python",
   "nbconvert_exporter": "python",
   "pygments_lexer": "ipython2",
   "version": "2.7.6"
  }
 },
 "nbformat": 4,
 "nbformat_minor": 5
}
