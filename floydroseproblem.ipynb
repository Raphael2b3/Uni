{
 "cells": [
  {
   "metadata": {},
   "cell_type": "markdown",
   "source": [
    "# Floyd Rose Problem\n",
    "\n",
    "There is the Floyed Rose Tremolo on E-Guitares.\n",
    "\n",
    "Its a spring, atached to the bridge, that is used to change the pitch of the strings. When tuning the Strings of the guitare, you are stretching the spring.\n",
    "this means that all the other strings are getting out of tune.\n",
    "\n",
    "We will calculate the tune of each string, so when the last string is tuned all the other strings are in tune.\n"
   ],
   "id": "12adb5eb8acad9bb"
  },
  {
   "metadata": {
    "ExecuteTime": {
     "end_time": "2024-11-20T15:52:41.771027Z",
     "start_time": "2024-11-20T15:52:41.761456Z"
    }
   },
   "cell_type": "code",
   "source": [
    "import numpy as np\n",
    "import matplotlib.pyplot as plt\n",
    "\n",
    "\n",
    "def mesure_tune(i):\n",
    "    # Mesure by fourier transformation and mic\n",
    "    return 1\n",
    "\n",
    "def help_detune_by_cents(cent, i):\n",
    "    # help detune the string by cent\n",
    "    return\n"
   ],
   "id": "1b8c76d8cca66d2d",
   "outputs": [],
   "execution_count": 11
  },
  {
   "metadata": {
    "ExecuteTime": {
     "end_time": "2024-11-20T15:55:15.671065Z",
     "start_time": "2024-11-20T15:55:15.651379Z"
    }
   },
   "cell_type": "code",
   "source": [
    "N = 6 # Number of Strings\n",
    "\n",
    "E = 82.41 # Frequency of the E String\n",
    "A = 110.00 # Frequency of the A String\n",
    "D = 146.83 # Frequency of the D String\n",
    "G = 196.00 # Frequency of the G String\n",
    "B = 246.94 # Frequency of the B String\n",
    "e = 329.63 # Frequency of the e String\n",
    "\n",
    "G = np.array([E,A,D,G,B,e]) # Goal frequenzies\n",
    "S = np.array([mesure_tune(i) for i in range(N)]) # current state of the string\n",
    "C = np.zeros((N,N))\n",
    "C"
   ],
   "id": "e093841e1088925c",
   "outputs": [
    {
     "data": {
      "text/plain": [
       "array([[0., 0., 0., 0., 0., 0.],\n",
       "       [0., 0., 0., 0., 0., 0.],\n",
       "       [0., 0., 0., 0., 0., 0.],\n",
       "       [0., 0., 0., 0., 0., 0.],\n",
       "       [0., 0., 0., 0., 0., 0.],\n",
       "       [0., 0., 0., 0., 0., 0.]])"
      ]
     },
     "execution_count": 15,
     "metadata": {},
     "output_type": "execute_result"
    }
   ],
   "execution_count": 15
  },
  {
   "metadata": {
    "ExecuteTime": {
     "end_time": "2024-11-20T15:55:34.670561Z",
     "start_time": "2024-11-20T15:55:34.655766Z"
    }
   },
   "cell_type": "code",
   "source": [
    "def find_coefficients():\n",
    "    for i in range(N):\n",
    "        S[i] = mesure_tune(i)\n",
    "    for i in range(N):\n",
    "        print(\"For string\",i+1)\n",
    "        help_detune_by_cents(100,i)\n",
    "        for j in range(N):\n",
    "            if i == j:\n",
    "                C[i,j] = 1\n",
    "            else:\n",
    "                new_s = mesure_tune(j)\n",
    "                C[i,j] = (new_s - S[j]) / 100\n",
    "        help_detune_by_cents(-100,i)\n",
    "find_coefficients()\n",
    "out = (G-S) @ np.linalg.inv(C)\n",
    "\n",
    "out\n"
   ],
   "id": "7fe3e6b4fd6cd6e6",
   "outputs": [
    {
     "name": "stdout",
     "output_type": "stream",
     "text": [
      "For string 1\n",
      "For string 2\n",
      "For string 3\n",
      "For string 4\n",
      "For string 5\n",
      "For string 6\n"
     ]
    },
    {
     "data": {
      "text/plain": [
       "array([ 81.41, 109.  , 145.83, 195.  , 245.94, 328.63])"
      ]
     },
     "execution_count": 17,
     "metadata": {},
     "output_type": "execute_result"
    }
   ],
   "execution_count": 17
  },
  {
   "metadata": {},
   "cell_type": "code",
   "outputs": [],
   "execution_count": null,
   "source": "",
   "id": "478cf7be548aa01b"
  }
 ],
 "metadata": {
  "kernelspec": {
   "display_name": "Python 3",
   "language": "python",
   "name": "python3"
  },
  "language_info": {
   "codemirror_mode": {
    "name": "ipython",
    "version": 2
   },
   "file_extension": ".py",
   "mimetype": "text/x-python",
   "name": "python",
   "nbconvert_exporter": "python",
   "pygments_lexer": "ipython2",
   "version": "2.7.6"
  }
 },
 "nbformat": 4,
 "nbformat_minor": 5
}
