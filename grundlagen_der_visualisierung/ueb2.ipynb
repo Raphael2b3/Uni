{
 "cells": [
  {
   "cell_type": "markdown",
   "id": "da0cbb08",
   "metadata": {},
   "source": [
    "# Widgets in Jupyter Notebooks\n",
    "\n",
    "* ipywdigets verfügt über ein breites Angebot Interaktivität einzubinden\n",
    "* falls nicht vorhanden installieren:\n",
    "  * pip install ipywidgets\n",
    "* ggf. müssen vorher einige Abhängigkeiten installiert und Einstellungen aktivitiert werden (nur wenn die Widgets nicht funktionieren)\n",
    "  * npm (z.B. sudo apt install npm ggf. danach upgraden: npm install -g npm)\n",
    "  * jupyter labextension install @jupyter-widgets/jupyterlab-manager\n",
    "  * jupyter nbextension enable --py widgetsnbextension\n",
    "  * jupyter nbextension enable --py --sys-prefix widgetsnbextension"
   ]
  },
  {
   "cell_type": "markdown",
   "id": "da289f85",
   "metadata": {},
   "source": [
    "### Beispiel: Curve Fitting"
   ]
  },
  {
   "cell_type": "code",
   "id": "dc345795",
   "metadata": {
    "ExecuteTime": {
     "end_time": "2025-01-08T07:13:47.430980Z",
     "start_time": "2025-01-08T07:13:47.426652Z"
    }
   },
   "source": [
    "import random\n",
    "\n",
    "import ipywidgets as widgets\n",
    "from IPython.display import display\n",
    "import numpy as np\n",
    "import pandas as pd\n",
    "from matplotlib import pyplot as plt\n",
    "import io\n",
    "\n",
    "from matplotlib.pyplot import figure\n",
    "from pandas import DataFrame"
   ],
   "outputs": [],
   "execution_count": 1
  },
  {
   "cell_type": "code",
   "id": "82f89e5c",
   "metadata": {
    "ExecuteTime": {
     "end_time": "2025-01-08T07:13:47.440986Z",
     "start_time": "2025-01-08T07:13:47.434986Z"
    }
   },
   "source": [
    "x = np.random.uniform(0, 5, size=100)\n",
    "ep = np.random.normal(size=100)\n",
    "\n",
    "y = 2 * x + ep\n",
    "\n",
    "x_values = np.linspace(0, 5, 1000)\n",
    "\n",
    "\n",
    "def slope_viz(m=1):\n",
    "    fig = plt.figure()\n",
    "    plt.scatter(x, y)\n",
    "    plt.plot(x_values, m * x_values, lw=1, color='black')\n",
    "\n",
    "    plt.ylim(-1.2, 12.2)"
   ],
   "outputs": [],
   "execution_count": 2
  },
  {
   "cell_type": "code",
   "id": "03778796",
   "metadata": {
    "scrolled": true,
    "ExecuteTime": {
     "end_time": "2025-01-08T07:13:47.755625Z",
     "start_time": "2025-01-08T07:13:47.629503Z"
    }
   },
   "source": [
    "slope_viz(m=2.5)"
   ],
   "outputs": [
    {
     "data": {
      "text/plain": [
       "<Figure size 640x480 with 1 Axes>"
      ],
      "image/png": "[encoded data removed]"
     },
     "metadata": {},
     "output_type": "display_data"
    }
   ],
   "execution_count": 3
  },
  {
   "cell_type": "code",
   "id": "c5c27d9e",
   "metadata": {
    "ExecuteTime": {
     "end_time": "2025-01-08T07:13:51.412041Z",
     "start_time": "2025-01-08T07:13:51.246233Z"
    }
   },
   "source": [
    "\n",
    "widgets.interact(slope_viz, m=(0.2, 10, 0.2))"
   ],
   "outputs": [
    {
     "data": {
      "text/plain": [
       "interactive(children=(FloatSlider(value=1.0, description='m', max=10.0, min=0.2, step=0.2), Output()), _dom_cl…"
      ],
      "application/vnd.jupyter.widget-view+json": {
       "version_major": 2,
       "version_minor": 0,
       "model_id": "7a20ef2a927b4121b028cbfb1e94806f"
      }
     },
     "metadata": {},
     "output_type": "display_data"
    },
    {
     "data": {
      "text/plain": [
       "<function __main__.slope_viz(m=1)>"
      ]
     },
     "execution_count": 5,
     "metadata": {},
     "output_type": "execute_result"
    }
   ],
   "execution_count": 5
  },
  {
   "cell_type": "markdown",
   "id": "babc6d4c",
   "metadata": {},
   "source": [
    "Eine Liste führt zu einem Dropdown-Menü"
   ]
  },
  {
   "cell_type": "code",
   "id": "8b015300",
   "metadata": {
    "ExecuteTime": {
     "end_time": "2025-01-08T07:13:52.519844Z",
     "start_time": "2025-01-08T07:13:52.415391Z"
    }
   },
   "source": "w = widgets.interact(slope_viz, m=[0, 1, 3, 5])",
   "outputs": [
    {
     "data": {
      "text/plain": [
       "interactive(children=(Dropdown(description='m', index=1, options=(0, 1, 3, 5), value=1), Output()), _dom_class…"
      ],
      "application/vnd.jupyter.widget-view+json": {
       "version_major": 2,
       "version_minor": 0,
       "model_id": "4d0a17b35259426aacdb5e056d702185"
      }
     },
     "metadata": {},
     "output_type": "display_data"
    }
   ],
   "execution_count": 6
  },
  {
   "cell_type": "markdown",
   "id": "2a7784f0",
   "metadata": {},
   "source": [
    "Ein Boolean zu einer Checkbox"
   ]
  },
  {
   "cell_type": "code",
   "id": "0302b3ad",
   "metadata": {
    "ExecuteTime": {
     "end_time": "2025-01-08T07:13:53.758037Z",
     "start_time": "2025-01-08T07:13:53.653907Z"
    }
   },
   "source": [
    "def slope_viz(m=1, some_bool=True):\n",
    "    fig = plt.figure()\n",
    "    plt.scatter(x, y)\n",
    "    if some_bool:\n",
    "        plt.plot(x_values, m * x_values, lw=3, color='black')\n",
    "\n",
    "    plt.ylim(-1.2, 12.2)\n",
    "\n",
    "\n",
    "widgets.interact(slope_viz, some_bool=False)"
   ],
   "outputs": [
    {
     "data": {
      "text/plain": [
       "interactive(children=(IntSlider(value=1, description='m', max=3, min=-1), Checkbox(value=False, description='s…"
      ],
      "application/vnd.jupyter.widget-view+json": {
       "version_major": 2,
       "version_minor": 0,
       "model_id": "b46ad8333bbd4cfab5f2a6ce86964ad4"
      }
     },
     "metadata": {},
     "output_type": "display_data"
    },
    {
     "data": {
      "text/plain": [
       "<function __main__.slope_viz(m=1, some_bool=True)>"
      ]
     },
     "execution_count": 7,
     "metadata": {},
     "output_type": "execute_result"
    }
   ],
   "execution_count": 7
  },
  {
   "cell_type": "code",
   "id": "90fe0309-4f74-42d1-803b-d59e6a7614e5",
   "metadata": {
    "ExecuteTime": {
     "end_time": "2025-01-08T07:13:54.432620Z",
     "start_time": "2025-01-08T07:13:54.430671Z"
    }
   },
   "source": [],
   "outputs": [],
   "execution_count": null
  },
  {
   "cell_type": "markdown",
   "id": "34ebdc9c",
   "metadata": {},
   "source": [
    "Ein String erzeugt ein Textfeld"
   ]
  },
  {
   "cell_type": "code",
   "id": "c5af4730",
   "metadata": {
    "ExecuteTime": {
     "end_time": "2025-01-08T07:13:55.325560Z",
     "start_time": "2025-01-08T07:13:55.214828Z"
    }
   },
   "source": [
    "def slope_viz(some_text, m=1):\n",
    "    fig = plt.figure()\n",
    "    plt.scatter(x, y)\n",
    "    plt.plot(x_values, m * x_values, lw=3, color='black')\n",
    "    plt.xlabel(some_text)\n",
    "    plt.ylim(-1.2, 12.2)\n",
    "\n",
    "\n",
    "widgets.interact(slope_viz, some_text=\"Klaus\")"
   ],
   "outputs": [
    {
     "data": {
      "text/plain": [
       "interactive(children=(Text(value='Klaus', description='some_text'), IntSlider(value=1, description='m', max=3,…"
      ],
      "application/vnd.jupyter.widget-view+json": {
       "version_major": 2,
       "version_minor": 0,
       "model_id": "84f25d29c9a247d4964803c71e971793"
      }
     },
     "metadata": {},
     "output_type": "display_data"
    },
    {
     "data": {
      "text/plain": [
       "<function __main__.slope_viz(some_text, m=1)>"
      ]
     },
     "execution_count": 8,
     "metadata": {},
     "output_type": "execute_result"
    }
   ],
   "execution_count": 8
  },
  {
   "cell_type": "markdown",
   "id": "3bed9a40",
   "metadata": {},
   "source": [
    "### Pitfall\n",
    "* Interact alleine vermeiden!"
   ]
  },
  {
   "cell_type": "code",
   "id": "9a227304",
   "metadata": {
    "ExecuteTime": {
     "end_time": "2025-01-08T07:13:55.547563Z",
     "start_time": "2025-01-08T07:13:55.542190Z"
    }
   },
   "source": [
    "w = widgets.interact(m=[0, 1, 3, 5])\n",
    "display(w)"
   ],
   "outputs": [
    {
     "data": {
      "text/plain": [
       "<ipywidgets.widgets.interaction._InteractFactory at 0x204ffe0f080>"
      ]
     },
     "metadata": {},
     "output_type": "display_data"
    }
   ],
   "execution_count": 9
  },
  {
   "cell_type": "markdown",
   "id": "5e1effcd",
   "metadata": {},
   "source": [
    "* stattdessen die Klasse nutzen:"
   ]
  },
  {
   "cell_type": "code",
   "id": "95a9bf46",
   "metadata": {
    "ExecuteTime": {
     "end_time": "2025-01-08T07:13:56.465323Z",
     "start_time": "2025-01-08T07:13:56.460037Z"
    }
   },
   "source": [
    "widgets.Dropdown(\n",
    "    options=['1', '2', '3'],\n",
    "    value='2',\n",
    ")\n"
   ],
   "outputs": [
    {
     "data": {
      "text/plain": [
       "Dropdown(index=1, options=('1', '2', '3'), value='2')"
      ],
      "application/vnd.jupyter.widget-view+json": {
       "version_major": 2,
       "version_minor": 0,
       "model_id": "c0951c5794504ef8855bb72c51a649a9"
      }
     },
     "execution_count": 10,
     "metadata": {},
     "output_type": "execute_result"
    }
   ],
   "execution_count": 10
  },
  {
   "cell_type": "markdown",
   "id": "50bbf0ab",
   "metadata": {},
   "source": [
    "### Viel mehr:\n",
    "* Accordion\n",
    "* ColorPicker\n",
    "* Slider\n",
    "* Radio-Buttons\n",
    "* Button\n",
    "* [Liste aller Widgets](https://ipywidgets.readthedocs.io/en/stable/examples/Widget%20List.html)\n",
    "\n",
    "Es gibt zusätzlich [Live Tutorial](https://ipywidgets.readthedocs.io/en/stable/lite/lab/) sind ggf. aber sehr langsam."
   ]
  },
  {
   "cell_type": "markdown",
   "id": "9588fb2f",
   "metadata": {},
   "source": [
    "### Aufgabe heute\n",
    "\n",
    "Daten: `pip install vega_datasets`\n",
    "\n",
    "Erstellen Sie ein kleines Visualisierungstool mit folgenden Anforderungen:\n",
    "* Laden eines Datensatzes über das [File Upload](https://ipywidgets.readthedocs.io/en/stable/examples/Widget%20List.html#File-Upload) Widget\n",
    "* Erstellen eines interaktiven [Scatterplots](https://matplotlib.org/stable/api/_as_gen/matplotlib.pyplot.scatter.html)\n",
    "* Auswahl der X und Y Achse über ein Drop-Down Menü\n",
    "* Möglichkeit den erstellten Scatterplot [abzuspeichern](https://matplotlib.org/stable/api/_as_gen/matplotlib.pyplot.savefig.html)\n",
    "* Bonus: \n",
    "  * Farbe inkludieren\n",
    "  * Beim Speichern ein [File Dialog](https://pypi.org/project/ipyfilechooser/) nutzen, um den Pfad variabel zu setzen"
   ]
  },
  {
   "metadata": {
    "ExecuteTime": {
     "end_time": "2025-01-08T07:13:59.800429Z",
     "start_time": "2025-01-08T07:13:57.851753Z"
    }
   },
   "cell_type": "code",
   "source": "!pip install vega_datasets\n",
   "id": "1354e794b3bda0fd",
   "outputs": [
    {
     "name": "stdout",
     "output_type": "stream",
     "text": [
      "Requirement already satisfied: vega_datasets in c:\\users\\guita\\dev\\raphael2b3\\uni\\.venv\\lib\\site-packages (0.9.0)\n",
      "Requirement already satisfied: pandas in c:\\users\\guita\\dev\\raphael2b3\\uni\\.venv\\lib\\site-packages (from vega_datasets) (2.2.3)\n",
      "Requirement already satisfied: numpy>=1.26.0 in c:\\users\\guita\\dev\\raphael2b3\\uni\\.venv\\lib\\site-packages (from pandas->vega_datasets) (2.1.3)\n",
      "Requirement already satisfied: python-dateutil>=2.8.2 in c:\\users\\guita\\dev\\raphael2b3\\uni\\.venv\\lib\\site-packages (from pandas->vega_datasets) (2.9.0.post0)\n",
      "Requirement already satisfied: pytz>=2020.1 in c:\\users\\guita\\dev\\raphael2b3\\uni\\.venv\\lib\\site-packages (from pandas->vega_datasets) (2024.2)\n",
      "Requirement already satisfied: tzdata>=2022.7 in c:\\users\\guita\\dev\\raphael2b3\\uni\\.venv\\lib\\site-packages (from pandas->vega_datasets) (2024.2)\n",
      "Requirement already satisfied: six>=1.5 in c:\\users\\guita\\dev\\raphael2b3\\uni\\.venv\\lib\\site-packages (from python-dateutil>=2.8.2->pandas->vega_datasets) (1.16.0)\n"
     ]
    },
    {
     "name": "stderr",
     "output_type": "stream",
     "text": [
      "\n",
      "[notice] A new release of pip is available: 23.2.1 -> 24.3.1\n",
      "[notice] To update, run: python.exe -m pip install --upgrade pip\n"
     ]
    }
   ],
   "execution_count": 11
  },
  {
   "cell_type": "code",
   "id": "429b9074-2d61-4442-9c2e-3faed7735f45",
   "metadata": {
    "ExecuteTime": {
     "end_time": "2025-01-08T07:13:59.879048Z",
     "start_time": "2025-01-08T07:13:59.872237Z"
    }
   },
   "source": [
    "uploaded_file = widgets.FileUpload()\n",
    "display(uploaded_file)\n"
   ],
   "outputs": [
    {
     "data": {
      "text/plain": [
       "FileUpload(value=(), description='Upload')"
      ],
      "application/vnd.jupyter.widget-view+json": {
       "version_major": 2,
       "version_minor": 0,
       "model_id": "6913641dfcad4024939124a8758fce55"
      }
     },
     "metadata": {},
     "output_type": "display_data"
    }
   ],
   "execution_count": 12
  },
  {
   "metadata": {
    "ExecuteTime": {
     "end_time": "2025-01-08T07:14:00.231303Z",
     "start_time": "2025-01-08T07:14:00.071715Z"
    }
   },
   "cell_type": "code",
   "source": [
    "import random\n",
    "from vega_datasets import data\n",
    "\n",
    "df: DataFrame = data.iris()\n",
    "\n",
    "public_fig = None\n",
    "\n",
    "\n",
    "def my_viz(x, y, setosa: bool = True, versicolor: bool = True, virginica: bool = True):\n",
    "    global df, public_fig\n",
    "\n",
    "    public_fig = plt.figure(figsize=(5, 5))\n",
    "    if setosa:\n",
    "        df2 = df[df[\"species\"] == \"setosa\"]\n",
    "        plt.scatter(df2[x], df2[y], color='blue')\n",
    "    if versicolor:\n",
    "        df2 = df[df[\"species\"] == \"versicolor\"]\n",
    "        plt.scatter(df2[x], df2[y], color='green')\n",
    "    if virginica:\n",
    "        df2 = df[df[\"species\"] == \"virginica\"]\n",
    "        plt.scatter(df2[x], df2[y], color='red')\n",
    "\n",
    "    plt.title(\"Giga Plot\")\n",
    "    plt.xlabel(x)\n",
    "    plt.ylabel(y)\n",
    "\n",
    "\n",
    "def safe_fig():\n",
    "    \n",
    "    public_fig.savefig(\"IrisDataPlot.png\")\n",
    "    return 'Successfully saved'\n",
    "    \n",
    "    \n",
    "\n",
    "att = df.columns.array[:-1]\n",
    "w = widgets.interact(my_viz, x=att, y=att)\n",
    "w2 = widgets.Button(description=\"Save\",\n",
    "                    disabled=False,\n",
    "                    button_style='',  # 'success', 'info', 'warning', 'danger' or ''\n",
    "                    tooltip='Click me',\n",
    "                    icon='check')\n",
    "w2.on_click(safe_fig)\n",
    "display(w2)\n",
    "widgets.Image(value=open(\"IrisDataPlot.png\", \"rb\").read())"
   ],
   "id": "dc81b1dc865eccc9",
   "outputs": [
    {
     "data": {
      "text/plain": [
       "interactive(children=(Dropdown(description='x', options=('sepalLength', 'sepalWidth', 'petalLength', 'petalWid…"
      ],
      "application/vnd.jupyter.widget-view+json": {
       "version_major": 2,
       "version_minor": 0,
       "model_id": "4441eba99bbe42ae8b61bdd696cc93d6"
      }
     },
     "metadata": {},
     "output_type": "display_data"
    },
    {
     "data": {
      "text/plain": [
       "Button(description='Save', icon='check', style=ButtonStyle(), tooltip='Click me')"
      ],
      "application/vnd.jupyter.widget-view+json": {
       "version_major": 2,
       "version_minor": 0,
       "model_id": "04dfc0130d1042faa3d4fdac45bee756"
      }
     },
     "metadata": {},
     "output_type": "display_data"
    },
    {
     "data": {
      "text/plain": [
       "Image(value=b'\\x89PNG\\r\\n\\x1a\\n\\x00\\x00\\x00\\rIHDR\\x00\\x00\\x01\\xf4\\x00\\x00\\x01\\xf4\\x08\\x06\\x00\\x00\\x00\\xcb\\xd6\\…"
      ],
      "application/vnd.jupyter.widget-view+json": {
       "version_major": 2,
       "version_minor": 0,
       "model_id": "62ae0e8c1bc945d5a872a7cfe11f3af9"
      }
     },
     "execution_count": 13,
     "metadata": {},
     "output_type": "execute_result"
    }
   ],
   "execution_count": 13
  },
  {
   "metadata": {
    "ExecuteTime": {
     "end_time": "2024-11-06T09:19:11.473641Z",
     "start_time": "2024-11-06T09:19:11.470636Z"
    }
   },
   "cell_type": "code",
   "source": "",
   "id": "7e1554260593f3b2",
   "outputs": [],
   "execution_count": null
  }
 ],
 "metadata": {
  "kernelspec": {
   "display_name": "Python 3 (ipykernel)",
   "language": "python",
   "name": "python3"
  },
  "language_info": {
   "codemirror_mode": {
    "name": "ipython",
    "version": 3
   },
   "file_extension": ".py",
   "mimetype": "text/x-python",
   "name": "python",
   "nbconvert_exporter": "python",
   "pygments_lexer": "ipython3",
   "version": "3.12.7"
  },
  "vscode": {
   "interpreter": {
    "hash": "916dbcbb3f70747c44a77c7bcd40155683ae19c65e1c03b4aa3499c5328201f1"
   }
  }
 },
 "nbformat": 4,
 "nbformat_minor": 5
}
