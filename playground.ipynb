{
 "cells": [
  {
   "cell_type": "code",
   "id": "initial_id",
   "metadata": {
    "collapsed": true,
    "ExecuteTime": {
     "end_time": "2024-11-07T10:58:38.237191Z",
     "start_time": "2024-11-07T10:58:38.218875Z"
    }
   },
   "source": [
    "import numpy as np\n",
    "import matplotlib.pyplot as plt\n"
   ],
   "outputs": [],
   "execution_count": 4
  },
  {
   "metadata": {
    "ExecuteTime": {
     "end_time": "2024-11-07T10:58:39.904021Z",
     "start_time": "2024-11-07T10:58:39.898437Z"
    }
   },
   "cell_type": "code",
   "source": [
    "xmin, xmax = -5, 5\n",
    "ymin, ymax = -5, 5\n",
    "x = np.linspace(xmin, xmax, 100)\n",
    "y = np.linspace(ymin, ymax, 100)\n",
    "X, Y = np.meshgrid(x, y)\n"
   ],
   "id": "8277c0c04e80ffa2",
   "outputs": [],
   "execution_count": 5
  },
  {
   "metadata": {
    "ExecuteTime": {
     "end_time": "2024-11-07T10:58:44.714324Z",
     "start_time": "2024-11-07T10:58:44.708141Z"
    }
   },
   "cell_type": "code",
   "source": [
    "R = np.sqrt(X**2 + Y**2)\n",
    "PHI = np.arctan2(Y, X)"
   ],
   "id": "163dc5c4fce28bd2",
   "outputs": [],
   "execution_count": 6
  },
  {
   "metadata": {},
   "cell_type": "code",
   "outputs": [],
   "execution_count": null,
   "source": "f = lambda x : np.sqrt(1-(x))",
   "id": "b26ff2b5fed5b65d"
  },
  {
   "metadata": {},
   "cell_type": "code",
   "outputs": [],
   "execution_count": null,
   "source": "",
   "id": "777667b03df408df"
  },
  {
   "metadata": {},
   "cell_type": "code",
   "outputs": [],
   "execution_count": null,
   "source": "",
   "id": "7f3e14afd4dba6da"
  }
 ],
 "metadata": {
  "kernelspec": {
   "display_name": "Python 3",
   "language": "python",
   "name": "python3"
  },
  "language_info": {
   "codemirror_mode": {
    "name": "ipython",
    "version": 2
   },
   "file_extension": ".py",
   "mimetype": "text/x-python",
   "name": "python",
   "nbconvert_exporter": "python",
   "pygments_lexer": "ipython2",
   "version": "2.7.6"
  }
 },
 "nbformat": 4,
 "nbformat_minor": 5
}
