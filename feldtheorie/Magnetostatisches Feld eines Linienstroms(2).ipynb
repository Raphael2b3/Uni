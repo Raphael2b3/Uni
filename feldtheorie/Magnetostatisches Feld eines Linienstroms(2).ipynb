{
 "cells": [
  {
   "cell_type": "markdown",
   "id": "17908a70",
   "metadata": {},
   "source": [
    "# Magnetostatisches Feld eines Linienstroms"
   ]
  },
  {
   "cell_type": "code",
   "id": "87927af3",
   "metadata": {
    "ExecuteTime": {
     "end_time": "2025-03-25T16:19:35.408523Z",
     "start_time": "2025-03-25T16:19:35.166456Z"
    }
   },
   "source": [
    "import numpy as np\n",
    "from matplotlib import pyplot as plt\n",
    "\n",
    "plt.figure(figsize=(3, 3))\n",
    "drift = 0.001\n",
    "xmin, xmax = -1.00001, 1.000010\n",
    "ymin, ymax = -1.000010, 1.000010\n",
    "zmin, zmax = -1.000010, 1.000010\n",
    "\n",
    "xsamples = 2 ** 8\n",
    "ysamples = 2 ** 8\n",
    "zsamples = 2 ** 8\n",
    "\n",
    "xrange = np.linspace(xmin, xmax, num=xsamples)\n",
    "yrange = np.linspace(ymin, ymax, num=ysamples)\n",
    "zrange = np.linspace(zmin, zmax, num=zsamples)\n",
    "dx = xrange[1] - xrange[0]\n",
    "dy = yrange[1] - yrange[0]\n",
    "dz = zrange[1] - zrange[0]\n",
    "\n",
    "x, y= np.meshgrid(xrange, yrange)\n",
    "X,Y,Z = np.meshgrid(xrange, yrange, zrange, indexing='ij')\n",
    "phi = np.linspace(-np.pi, np.pi, num=xsamples)\n",
    "def r(_phi):\n",
    "    return np.array([-np.sin(_phi), np.cos(_phi), 0])\n",
    "\n",
    "r_ = r(phi)\n",
    "\n",
    "def cross(a,b):\n",
    "    c = np.zeros_like(a)\n",
    "    c[0] = a[1]*b[2] - a[2]*b[1]\n",
    "    c[1] = a[2]*b[0] - a[0]*b[2]\n",
    "    c[2] = a[0]*b[1] - a[1]*b[0]\n",
    "    return c\n",
    "\n",
    "\n",
    "def integratePolar(f,start,stop):\n",
    "    return np.sum(f(t) for t in np.linspace(start,stop,num=xsamples))*(start)\n",
    "\n",
    "\n",
    "\n",
    "distance_field = np.sum(1/np.array([np.sqrt((X - r(_phi)[0]) ** 2 + (Y - r(_phi)[1]) ** 2) for _phi in range(len(phi))]), axis=0)\n",
    "\n",
    "\n"
   ],
   "outputs": [
    {
     "ename": "ValueError",
     "evalue": "operands could not be broadcast together with shapes (3,256) (3,256,256,256) ",
     "output_type": "error",
     "traceback": [
      "\u001B[1;31m---------------------------------------------------------------------------\u001B[0m",
      "\u001B[1;31mValueError\u001B[0m                                Traceback (most recent call last)",
      "Cell \u001B[1;32mIn[5], line 30\u001B[0m\n\u001B[0;32m     26\u001B[0m r_z \u001B[38;5;241m=\u001B[39m np\u001B[38;5;241m.\u001B[39mzeros_like(r_x)\n\u001B[0;32m     28\u001B[0m r \u001B[38;5;241m=\u001B[39m np\u001B[38;5;241m.\u001B[39marray([r_x, r_y, r_z])\n\u001B[1;32m---> 30\u001B[0m t2 \u001B[38;5;241m=\u001B[39m (\u001B[43mr\u001B[49m\u001B[38;5;241;43m-\u001B[39;49m\u001B[43m[\u001B[49m\u001B[43mX\u001B[49m\u001B[43m,\u001B[49m\u001B[43mY\u001B[49m\u001B[43m,\u001B[49m\u001B[43mZ\u001B[49m\u001B[43m]\u001B[49m)\u001B[38;5;241m/\u001B[39mnp\u001B[38;5;241m.\u001B[39mlinalg\u001B[38;5;241m.\u001B[39mnorm(r\u001B[38;5;241m-\u001B[39m[X,Y,Z],axis\u001B[38;5;241m=\u001B[39m\u001B[38;5;241m0\u001B[39m)\u001B[38;5;241m*\u001B[39m\u001B[38;5;241m*\u001B[39m\u001B[38;5;241m3\u001B[39m\n\u001B[0;32m     32\u001B[0m \u001B[38;5;28;01mdef\u001B[39;00m \u001B[38;5;21mcross\u001B[39m(a,b):\n\u001B[0;32m     33\u001B[0m     c \u001B[38;5;241m=\u001B[39m np\u001B[38;5;241m.\u001B[39mzeros_like(a)\n",
      "\u001B[1;31mValueError\u001B[0m: operands could not be broadcast together with shapes (3,256) (3,256,256,256) "
     ]
    },
    {
     "data": {
      "text/plain": [
       "<Figure size 300x300 with 0 Axes>"
      ]
     },
     "metadata": {},
     "output_type": "display_data"
    }
   ],
   "execution_count": 5
  },
  {
   "cell_type": "markdown",
   "id": "8da68b4f",
   "metadata": {},
   "source": [
    "## 1 Analytische Lösung"
   ]
  },
  {
   "cell_type": "markdown",
   "id": "f9f6bd60",
   "metadata": {},
   "source": [
    "Idealisierungen:\n",
    "* unendlich dünner Leiter\n",
    "* ringförmiger Leiter\n",
    "* endlicher Radius\n",
    "* Bestimmung des magnetischen Potenzials und des magnetischen Feldes nur auf der Symmetrieachse."
   ]
  },
  {
   "cell_type": "markdown",
   "id": "af9502a2",
   "metadata": {},
   "source": [
    "### 1.1 Herleitung"
   ]
  },
  {
   "cell_type": "markdown",
   "id": "2bfb0a48",
   "metadata": {},
   "source": [
    "* siehe Vorlesung\n",
    "* magnetisches Potenzial\n",
    "* magnetisches Feld\n",
    "* in Zylinderkoordinaten\n",
    "* Lösung auf der Achse in möglichst einfacher Form"
   ]
  },
  {
   "metadata": {},
   "cell_type": "markdown",
   "source": [
    "\n",
    "**Poisson-Gleichung**\n",
    "$$\n",
    "\\Delta \\vec{A} = -\\mu \\vec{j}\n",
    "$$\n",
    "\n",
    "**Lösung**\n",
    "$$\n",
    "\\vec{A}(\\vec{r}) = \\frac{\\mu}{4\\pi} \\iiint \\frac{\\vec{j}(\\vec{r}')}{|\\vec{r} - \\vec{r}'|} dV'\n",
    "$$\n",
    "\n",
    "Der Strom verläuft auf einer Kreisbahn mit Radius $R$. Die Kurve kann durch $\\vec{r}(\\varphi) = \\begin{pmatrix} R \\cos(\\varphi) \\\\ R \\sin(\\varphi) \\\\ 0 \\end{pmatrix}$ beschrieben werden. Die Stromdichte ist konstant und beträgt $I$.\n",
    "\n",
    "Um das Magnetische Potenzial $\\vec{A}$ zu berechnen, müssen wir für jeden Punkt im Raum die durchschnittliche Flussrichtung des Stroms gewichtet mit dem kehrwert des Abstandes berechnen. Dazu integrieren wir über die gesamte Kreisbahn.\n",
    "\n",
    "$\\vec{A}= \\frac{\\mu_0}{4\\pi} \\int_0^{2\\pi} \\frac{I}{R} \\begin{pmatrix} -\\sin(\\varphi) \\\\ \\cos(\\varphi) \\\\ 0 \\end{pmatrix} d\\varphi$\n",
    "\n"
   ],
   "id": "8910f23bcf572c1"
  },
  {
   "metadata": {},
   "cell_type": "markdown",
   "source": "",
   "id": "e620c8dcd3ab8656"
  },
  {
   "cell_type": "markdown",
   "id": "4f11f6b1",
   "metadata": {},
   "source": [
    "### 1.2 Visualisierung"
   ]
  },
  {
   "cell_type": "markdown",
   "id": "edc50df8",
   "metadata": {},
   "source": [
    "* magnetisches Potenzial\n",
    "* $z$-Komponente des magnetischen Feldes"
   ]
  },
  {
   "cell_type": "markdown",
   "id": "8535173c",
   "metadata": {},
   "source": [
    "## 2 Numerische Lösung"
   ]
  },
  {
   "cell_type": "markdown",
   "id": "4e667f79",
   "metadata": {},
   "source": [
    "### 2.1 Herleitung"
   ]
  },
  {
   "cell_type": "markdown",
   "id": "054e00b4",
   "metadata": {},
   "source": [
    "* Formeln zur numerischen Berechnung in beliebigem Raumpunkt\n",
    "    * magnetisches Potenzial: aus der Quellendarstellung\n",
    "    * magnetisches Feld: aus dem Potenzial\n",
    "* alles in Zylinderkoordinaten\n",
    "* Rotationssymmetrie ausnutzen"
   ]
  },
  {
   "cell_type": "markdown",
   "id": "74d543c0",
   "metadata": {},
   "source": [
    "### 2.2 Berechnung"
   ]
  },
  {
   "cell_type": "markdown",
   "id": "6216560d",
   "metadata": {},
   "source": [
    "* Wahl des Integrationsverfahrens\n",
    "* Wahl des Samplings"
   ]
  },
  {
   "cell_type": "markdown",
   "id": "c0fcb363",
   "metadata": {},
   "source": [
    "### 2.3 Visualisierung"
   ]
  },
  {
   "cell_type": "markdown",
   "id": "45609c9b",
   "metadata": {},
   "source": [
    "* magnetisches Potenzial\n",
    "* alle Komponenten des magnetischen Feldes\n",
    "* alles in Zylinderkoodinaten\n",
    "* Rotationssymmetrie ausnutzen\n",
    "* geeignete zweidimensionale Schnitte\n",
    "* freie Wahl der Bibliothek zum Plotten\n",
    "    * [Matplotlib](https://matplotlib.org/)\n",
    "    * [Seaborn](https://seaborn.pydata.org/)\n",
    "    * [Plotly](https://plotly.com/)\n",
    "    * [Bokeh](https://bokeh.org/)\n",
    "    * ..."
   ]
  },
  {
   "cell_type": "markdown",
   "id": "b694c657",
   "metadata": {},
   "source": [
    "## 3 Vergleich analytische und numerische Lösung"
   ]
  },
  {
   "cell_type": "markdown",
   "id": "95910756",
   "metadata": {},
   "source": [
    "* Bestimmung des relativen Fehlers\n",
    "* auf der Symmetrieachse\n",
    "* magnetisches Potenzial\n",
    "* $z$-Komponente des magnetischen Feldes\n",
    "* Visualisierung wie bei der analytischen Lösung\n",
    "* logarithmisch darstellen"
   ]
  },
  {
   "cell_type": "markdown",
   "id": "2a4241f1",
   "metadata": {},
   "source": [
    "## 4 Verallgemeinerung"
   ]
  },
  {
   "cell_type": "markdown",
   "id": "8283a69e",
   "metadata": {},
   "source": [
    "* Spule\n",
    "    * $N$ Windungen\n",
    "    * Länge $L$\n",
    "* magnetisches Potenzial und magnetisches Feld\n",
    "* Vorgehen bei numerischer Berechnung und Visualisierung wie oben"
   ]
  },
  {
   "cell_type": "markdown",
   "id": "61120e50",
   "metadata": {},
   "source": [
    "### Fakultativ\n",
    "* Ringstrom\n",
    "    * Recherche analytische Lösung (falls möglich, kann kompliziert werden!)\n",
    "    * Grenzübergang $R\\to0$ und Vergleich mit infinitesimalem magnetischem Dipol\n",
    "        * analytisch\n",
    "        * numerisch\n",
    "* Spule\n",
    "    * Vergleich mit $N$ im Abstand $L/N$ aneinandergereihten Kreisströmen\n",
    "    * Vergleich mit anderem Team: zylindrischer Permanentmagnet"
   ]
  },
  {
   "cell_type": "markdown",
   "id": "2880e8ee",
   "metadata": {},
   "source": [
    "## 5 Ausblick:  Zeitlich veränderlicher Strom"
   ]
  },
  {
   "cell_type": "markdown",
   "id": "455fc086",
   "metadata": {},
   "source": [
    "Idealisierungen:\n",
    "* unendlich dünner Leiter\n",
    "* ringförmiger Leiter\n",
    "* endlicher Radius\n",
    "* Bestimmung des magnetischen Potenzials und des magnetischen Feldes nur auf der Symmetrieachse."
   ]
  },
  {
   "cell_type": "markdown",
   "id": "b5bb8811",
   "metadata": {},
   "source": [
    "Verallgemeinerung: *zeitlich veränderlicher* Strom\n",
    "* quasistatischer Fall\n",
    "* dynamischer Fall"
   ]
  },
  {
   "cell_type": "markdown",
   "id": "1b25543c",
   "metadata": {},
   "source": [
    "Nur eine kurze Beschreibung dessen, was zur Bestimmung des zeitlich veränderlichen magnetischen Feldes zu tun wäre - insbesondere ein paar Worte zu den erwarteten Hürden in Bezug auf:\n",
    "* Zeitkomplexität\n",
    "* Speicherbedarf\n",
    "* Genauigkeit"
   ]
  }
 ],
 "metadata": {
  "kernelspec": {
   "display_name": "Python 3 (ipykernel)",
   "language": "python",
   "name": "python3"
  },
  "language_info": {
   "codemirror_mode": {
    "name": "ipython",
    "version": 3
   },
   "file_extension": ".py",
   "mimetype": "text/x-python",
   "name": "python",
   "nbconvert_exporter": "python",
   "pygments_lexer": "ipython3",
   "version": "3.12.3"
  }
 },
 "nbformat": 4,
 "nbformat_minor": 5
}
