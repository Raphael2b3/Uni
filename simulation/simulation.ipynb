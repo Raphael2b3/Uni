{
 "cells": [
  {
   "cell_type": "code",
   "id": "initial_id",
   "metadata": {
    "collapsed": true,
    "ExecuteTime": {
     "end_time": "2024-11-07T14:13:07.993640Z",
     "start_time": "2024-11-07T14:13:07.931116Z"
    }
   },
   "source": [
    "import ipywidgets as widgets\n",
    "from IPython.display import display, clear_output\n",
    "import numpy as np\n",
    "\n",
    "xlength, ylength = 5, 5\n",
    "\n",
    "\n",
    "board = np.round(np.random.rand(xlength,ylength))\n",
    "\n",
    "board == 0\n",
    "\n"
   ],
   "outputs": [
    {
     "data": {
      "text/plain": [
       "array([[ True, False,  True, False,  True],\n",
       "       [False,  True, False,  True,  True],\n",
       "       [ True, False, False,  True,  True],\n",
       "       [ True,  True,  True,  True, False],\n",
       "       [ True,  True, False,  True, False]])"
      ]
     },
     "execution_count": 18,
     "metadata": {},
     "output_type": "execute_result"
    }
   ],
   "execution_count": 18
  },
  {
   "metadata": {
    "ExecuteTime": {
     "end_time": "2024-11-07T13:45:42.307409Z",
     "start_time": "2024-11-07T13:45:42.286284Z"
    }
   },
   "cell_type": "code",
   "source": [
    "\n",
    "w = widgets.Button(description=\"Next Generation\")\n",
    "output = widgets.Output()\n",
    "\n",
    "display(w, output)\n",
    "\n",
    "\n",
    "def v(b):\n",
    "    with output:\n",
    "        print(\"Test\")\n",
    "        game.visualize()\n",
    "    \n",
    "    \n",
    "w.on_click(v)\n",
    "\n"
   ],
   "id": "de692a24cb57043a",
   "outputs": [
    {
     "data": {
      "text/plain": [
       "Button(description='Next Generation', style=ButtonStyle())"
      ],
      "application/vnd.jupyter.widget-view+json": {
       "version_major": 2,
       "version_minor": 0,
       "model_id": "feecf5c0de0641d5ba6fc84c5f653b6a"
      }
     },
     "metadata": {},
     "output_type": "display_data"
    },
    {
     "data": {
      "text/plain": [
       "Output()"
      ],
      "application/vnd.jupyter.widget-view+json": {
       "version_major": 2,
       "version_minor": 0,
       "model_id": "7a8d48fd5d8144a08e9ee866f99cf566"
      }
     },
     "metadata": {},
     "output_type": "display_data"
    }
   ],
   "execution_count": 17
  },
  {
   "metadata": {
    "ExecuteTime": {
     "end_time": "2024-11-07T12:24:02.754896Z",
     "start_time": "2024-11-07T12:24:02.744390Z"
    }
   },
   "cell_type": "code",
   "source": "",
   "id": "b4fc3e7badc9e3be",
   "outputs": [],
   "execution_count": null
  }
 ],
 "metadata": {
  "kernelspec": {
   "display_name": "Python 3",
   "language": "python",
   "name": "python3"
  },
  "language_info": {
   "codemirror_mode": {
    "name": "ipython",
    "version": 2
   },
   "file_extension": ".py",
   "mimetype": "text/x-python",
   "name": "python",
   "nbconvert_exporter": "python",
   "pygments_lexer": "ipython2",
   "version": "2.7.6"
  }
 },
 "nbformat": 4,
 "nbformat_minor": 5
}
