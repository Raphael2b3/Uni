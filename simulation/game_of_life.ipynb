{
 "cells": [
  {
   "metadata": {
    "ExecuteTime": {
     "end_time": "2024-11-12T12:05:16.868503Z",
     "start_time": "2024-11-12T12:05:16.062069Z"
    }
   },
   "cell_type": "code",
   "source": [
    "import threading\n",
    "from time import sleep\n",
    "\n",
    "import ipywidgets as widgets\n",
    "from IPython.display import display, clear_output \n",
    "import numpy as np\n",
    "import matplotlib.pyplot as plt\n",
    "out = widgets.Output(layout={'border': '1px solid black'})\n",
    "xlength, ylength = 5, 5\n",
    "iterations = 4\n",
    "board = np.round(np.random.rand(xlength,ylength))\n",
    "neighbor_adding_tensor = np.zeros((ylength,xlength,ylength,xlength))\n",
    "for i in range(ylength):\n",
    "    for j in range(xlength):\n",
    "        for k in range(i-1,i+2):\n",
    "            for l in range(j-1,j+2):\n",
    "                if not (k == i and j == l) and 0 <= k < ylength and 0 <= l < xlength:\n",
    "                    neighbor_adding_tensor[i, j, k, l] = int(1)\n"
   ],
   "id": "3a63005d95035f5d",
   "outputs": [],
   "execution_count": 1
  },
  {
   "metadata": {
    "ExecuteTime": {
     "end_time": "2024-11-12T12:05:17.041384Z",
     "start_time": "2024-11-12T12:05:16.878631Z"
    }
   },
   "cell_type": "code",
   "source": "plt.imshow(board)",
   "id": "bfedc726329f0858",
   "outputs": [
    {
     "data": {
      "text/plain": [
       "<matplotlib.image.AxesImage at 0x1f37fb561b0>"
      ]
     },
     "execution_count": 2,
     "metadata": {},
     "output_type": "execute_result"
    },
    {
     "data": {
      "text/plain": [
       "<Figure size 640x480 with 1 Axes>"
      ],
      "image/png": "[encoded data removed]"
     },
     "metadata": {},
     "output_type": "display_data"
    }
   ],
   "execution_count": 2
  },
  {
   "metadata": {
    "ExecuteTime": {
     "end_time": "2024-11-12T12:05:17.395610Z",
     "start_time": "2024-11-12T12:05:17.390147Z"
    }
   },
   "cell_type": "code",
   "source": [
    "def new_gen(_board):\n",
    "    neighbors = (_board*neighbor_adding_tensor).sum(axis=(2,3))\n",
    "    return ((neighbors == 3) | ((neighbors == 2) & (_board==1))).astype(int)\n"
   ],
   "id": "94fdda20de73f1dd",
   "outputs": [],
   "execution_count": 3
  },
  {
   "metadata": {
    "ExecuteTime": {
     "end_time": "2024-11-12T12:05:17.418378Z",
     "start_time": "2024-11-12T12:05:17.412602Z"
    }
   },
   "cell_type": "code",
   "source": [
    "@out.capture()\n",
    "def on_button_clicked(b):\n",
    "    global board\n",
    "    #out.clear_output()\n",
    "    print(\"test\")\n",
    "    board = new_gen(board)\n",
    "    plt.imshow(board)\n",
    "    plt.show()\n"
   ],
   "id": "b0e82dd96175d6f1",
   "outputs": [],
   "execution_count": 4
  },
  {
   "metadata": {
    "ExecuteTime": {
     "end_time": "2024-11-12T12:05:21.850899Z",
     "start_time": "2024-11-12T12:05:17.436371Z"
    }
   },
   "cell_type": "code",
   "source": [
    "display(out)\n",
    "for i in range(iterations):\n",
    "    on_button_clicked(None)\n",
    "    sleep(1)\n"
   ],
   "id": "fe398ea583dc06cb",
   "outputs": [
    {
     "data": {
      "text/plain": [
       "Output(layout=Layout(border_bottom='1px solid black', border_left='1px solid black', border_right='1px solid b…"
      ],
      "application/vnd.jupyter.widget-view+json": {
       "version_major": 2,
       "version_minor": 0,
       "model_id": "05076940d65849058b8181eee50e0478"
      }
     },
     "metadata": {},
     "output_type": "display_data"
    }
   ],
   "execution_count": 5
  },
  {
   "metadata": {
    "ExecuteTime": {
     "end_time": "2024-11-12T12:05:21.883904Z",
     "start_time": "2024-11-12T12:05:21.877624Z"
    }
   },
   "cell_type": "code",
   "source": "",
   "id": "4ea5ac413e184742",
   "outputs": [],
   "execution_count": null
  }
 ],
 "metadata": {
  "kernelspec": {
   "display_name": "Python 3",
   "language": "python",
   "name": "python3"
  },
  "language_info": {
   "codemirror_mode": {
    "name": "ipython",
    "version": 2
   },
   "file_extension": ".py",
   "mimetype": "text/x-python",
   "name": "python",
   "nbconvert_exporter": "python",
   "pygments_lexer": "ipython2",
   "version": "2.7.6"
  }
 },
 "nbformat": 4,
 "nbformat_minor": 5
}
