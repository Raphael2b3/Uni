{
 "cells": [
  {
   "cell_type": "code",
   "id": "initial_id",
   "metadata": {
    "collapsed": true,
    "ExecuteTime": {
     "end_time": "2024-11-07T12:40:35.290509Z",
     "start_time": "2024-11-07T12:40:34.388948Z"
    }
   },
   "source": [
    "import game_of_life as gol\n",
    "import ipywidgets as widgets\n",
    "from IPython.display import display\n",
    "\n",
    "game = gol.GameOfLife(5, 5)\n"
   ],
   "outputs": [
    {
     "name": "stdout",
     "output_type": "stream",
     "text": [
      "Initial Board\n"
     ]
    },
    {
     "data": {
      "text/plain": [
       "<Figure size 640x480 with 1 Axes>"
      ],
      "image/png": "[encoded data removed]"
     },
     "metadata": {},
     "output_type": "display_data"
    }
   ],
   "execution_count": 9
  },
  {
   "metadata": {
    "ExecuteTime": {
     "end_time": "2024-11-07T12:46:39.837834Z",
     "start_time": "2024-11-07T12:46:39.815318Z"
    }
   },
   "cell_type": "code",
   "source": [
    "\n",
    "w = widgets.Button(description=\"Next Generation\")\n",
    "output = widgets.Output()\n",
    "\n",
    "display(w, output)\n",
    "\n",
    "\n",
    "def v():\n",
    "    with output:\n",
    "        print(\"Test\")\n",
    "    game.visualize()\n",
    "    \n",
    "w.on_click(v)\n",
    "\n"
   ],
   "id": "de692a24cb57043a",
   "outputs": [
    {
     "data": {
      "text/plain": [
       "Button(description='Next Generation', style=ButtonStyle())"
      ],
      "application/vnd.jupyter.widget-view+json": {
       "version_major": 2,
       "version_minor": 0,
       "model_id": "a6c8cb5eb14b42ca949af161724fd5f8"
      }
     },
     "metadata": {},
     "output_type": "display_data"
    },
    {
     "data": {
      "text/plain": [
       "Output()"
      ],
      "application/vnd.jupyter.widget-view+json": {
       "version_major": 2,
       "version_minor": 0,
       "model_id": "bdc311897af34638b0c3f3ba25e6f692"
      }
     },
     "metadata": {},
     "output_type": "display_data"
    }
   ],
   "execution_count": 15
  },
  {
   "metadata": {
    "ExecuteTime": {
     "end_time": "2024-11-07T12:24:02.754896Z",
     "start_time": "2024-11-07T12:24:02.744390Z"
    }
   },
   "cell_type": "code",
   "source": "",
   "id": "b4fc3e7badc9e3be",
   "outputs": [],
   "execution_count": null
  }
 ],
 "metadata": {
  "kernelspec": {
   "display_name": "Python 3",
   "language": "python",
   "name": "python3"
  },
  "language_info": {
   "codemirror_mode": {
    "name": "ipython",
    "version": 2
   },
   "file_extension": ".py",
   "mimetype": "text/x-python",
   "name": "python",
   "nbconvert_exporter": "python",
   "pygments_lexer": "ipython2",
   "version": "2.7.6"
  }
 },
 "nbformat": 4,
 "nbformat_minor": 5
}
