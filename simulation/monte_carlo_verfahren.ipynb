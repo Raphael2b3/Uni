{
 "cells": [
  {
   "metadata": {},
   "cell_type": "markdown",
   "source": "# Monte-Carlo-Verfahren\n",
   "id": "7388edfe53c550d5"
  },
  {
   "metadata": {
    "ExecuteTime": {
     "end_time": "2024-11-14T13:52:38.980231Z",
     "start_time": "2024-11-14T13:52:38.976860Z"
    }
   },
   "cell_type": "code",
   "source": [
    "import numpy as np\n",
    "import matplotlib.pyplot as plt\n",
    "import random as rnd"
   ],
   "id": "27ccbed33901877e",
   "outputs": [],
   "execution_count": 5
  },
  {
   "metadata": {},
   "cell_type": "code",
   "outputs": [],
   "execution_count": null,
   "source": "",
   "id": "fd7698a0691b1361"
  }
 ],
 "metadata": {
  "kernelspec": {
   "display_name": "Python 3",
   "language": "python",
   "name": "python3"
  },
  "language_info": {
   "codemirror_mode": {
    "name": "ipython",
    "version": 2
   },
   "file_extension": ".py",
   "mimetype": "text/x-python",
   "name": "python",
   "nbconvert_exporter": "python",
   "pygments_lexer": "ipython2",
   "version": "2.7.6"
  }
 },
 "nbformat": 4,
 "nbformat_minor": 5
}
